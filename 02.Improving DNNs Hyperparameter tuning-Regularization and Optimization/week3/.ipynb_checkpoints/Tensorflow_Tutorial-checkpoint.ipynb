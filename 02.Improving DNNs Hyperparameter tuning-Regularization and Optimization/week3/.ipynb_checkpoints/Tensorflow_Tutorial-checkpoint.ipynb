{
 "cells": [
  {
   "cell_type": "markdown",
   "metadata": {},
   "source": [
    "# TensorFlow Tutorial\n",
    "\n",
    "Welcome to this week's programming assignment. Until now, you've always used numpy to build neural networks. Now we will step you through a deep learning framework that will allow you to build neural networks more easily. Machine learning frameworks like TensorFlow, PaddlePaddle, Torch, Caffe, Keras, and many others can speed up your machine learning development significantly. All of these frameworks also have a lot of documentation, which you should feel free to read. In this assignment, you will learn to do the following in TensorFlow: \n",
    "\n",
    "- Initialize variables\n",
    "- Start your own session\n",
    "- Train algorithms \n",
    "- Implement a Neural Network\n",
    "\n",
    "Programing frameworks can not only shorten your coding time, but sometimes also perform optimizations that speed up your code. \n",
    "\n",
    "## 1 - Exploring the Tensorflow Library\n",
    "\n",
    "To start, you will import the library:\n"
   ]
  },
  {
   "cell_type": "code",
   "execution_count": 1,
   "metadata": {},
   "outputs": [
    {
     "name": "stdout",
     "output_type": "stream",
     "text": [
      "WARNING:tensorflow:From D:\\Users\\AA66\\anaconda3\\Lib\\site-packages\\keras\\src\\losses.py:2976: The name tf.losses.sparse_softmax_cross_entropy is deprecated. Please use tf.compat.v1.losses.sparse_softmax_cross_entropy instead.\n",
      "\n"
     ]
    }
   ],
   "source": [
    "import math\n",
    "import numpy as np\n",
    "import h5py\n",
    "import matplotlib.pyplot as plt\n",
    "import tensorflow as tf\n",
    "# from tensorflow.python.framework import ops\n",
    "from tf_utils import load_dataset, random_mini_batches, convert_to_one_hot, predict\n",
    "\n",
    "%matplotlib inline\n",
    "np.random.seed(1)"
   ]
  },
  {
   "cell_type": "markdown",
   "metadata": {},
   "source": [
    "Now that you have imported the library, we will walk you through its different applications. You will start with an example, where we compute for you the loss of one training example. \n",
    "$$loss = \\mathcal{L}(\\hat{y}, y) = (\\hat y^{(i)} - y^{(i)})^2 \\tag{1}$$"
   ]
  },
  {
   "cell_type": "code",
   "execution_count": 2,
   "metadata": {},
   "outputs": [
    {
     "name": "stdout",
     "output_type": "stream",
     "text": [
      "9\n"
     ]
    }
   ],
   "source": [
    "y_hat = tf.constant(36, name='y_hat')            # Define y_hat constant. Set to 36.\n",
    "y = tf.constant(39, name='y')                    # Define y. Set to 39\n",
    "\n",
    "loss = tf.Variable((y - y_hat)**2, name='loss')  # Create a variable for the loss\n",
    "\n",
    "print(loss.numpy())                     # Prints the loss"
   ]
  },
  {
   "cell_type": "markdown",
   "metadata": {},
   "source": [
    "Writing and running programs in TensorFlow has the following steps:\n",
    "\n",
    "1. Create Tensors (variables) that are not yet executed/evaluated. \n",
    "2. Write operations between those Tensors.\n",
    "3. Initialize your Tensors. \n",
    "4. Create a Session. \n",
    "5. Run the Session. This will run the operations you'd written above. \n",
    "\n",
    "Therefore, when we created a variable for the loss, we simply defined the loss as a function of other quantities, but did not evaluate its value. To evaluate it, we had to run `init=tf.global_variables_initializer()`. That initialized the loss variable, and in the last line we were finally able to evaluate the value of `loss` and print its value.\n",
    "\n",
    "Now let us look at an easy example. Run the cell below:"
   ]
  },
  {
   "cell_type": "code",
   "execution_count": 3,
   "metadata": {},
   "outputs": [
    {
     "name": "stdout",
     "output_type": "stream",
     "text": [
      "tf.Tensor(20, shape=(), dtype=int32)\n"
     ]
    }
   ],
   "source": [
    "a = tf.constant(2)\n",
    "b = tf.constant(10)\n",
    "c = tf.multiply(a,b)\n",
    "print(c)\n",
    "\n",
    "# with tf.Session() as session:\n",
    "#     print(session.run(c))"
   ]
  },
  {
   "cell_type": "markdown",
   "metadata": {},
   "source": [
    "# tesorflow 1.x\n",
    "As expected, you will not see 20! You got a tensor saying that the result is a tensor that does not have the shape attribute, and is of type \"int32\". All you did was put in the 'computation graph', but you have not run this computation yet. In order to actually multiply the two numbers, you will have to create a session and run it.\n",
    "# 已经改成tensorflow 2.x"
   ]
  },
  {
   "cell_type": "code",
   "execution_count": 4,
   "metadata": {},
   "outputs": [
    {
     "name": "stdout",
     "output_type": "stream",
     "text": [
      "20\n"
     ]
    }
   ],
   "source": [
    "print(c.numpy())"
   ]
  },
  {
   "cell_type": "markdown",
   "metadata": {},
   "source": [
    "Great! To summarize, **remember to initialize your variables, create a session and run the operations inside the session**. \n",
    "\n",
    "Next, you'll also have to know about placeholders. A placeholder is an object whose value you can specify only later. \n",
    "To specify values for a placeholder, you can pass in values by using a \"feed dictionary\" (`feed_dict` variable). Below, we created a placeholder for x. This allows us to pass in a number later when we run the session. "
   ]
  },
  {
   "cell_type": "code",
   "execution_count": 5,
   "metadata": {},
   "outputs": [
    {
     "name": "stdout",
     "output_type": "stream",
     "text": [
      "6\n"
     ]
    }
   ],
   "source": [
    "# Change the value of x in the feed_dict\n",
    "\n",
    "x = tf.constant(3,tf.int64)\n",
    "result = 2 * x\n",
    "print(result.numpy())"
   ]
  },
  {
   "cell_type": "code",
   "execution_count": 6,
   "metadata": {},
   "outputs": [
    {
     "name": "stdout",
     "output_type": "stream",
     "text": [
      "0.0\n",
      "6.0\n"
     ]
    }
   ],
   "source": [
    "x = tf.Variable(0,dtype=tf.float32)\n",
    "print(2*x.numpy())\n",
    "\n",
    "x.assign(3)\n",
    "print(2*x.numpy())"
   ]
  },
  {
   "cell_type": "markdown",
   "metadata": {},
   "source": [
    "When you first defined `x` you did not have to specify a value for it. A placeholder is simply a variable that you will assign data to only later, when running the session. We say that you **feed data** to these placeholders when running the session. \n",
    "\n",
    "Here's what's happening: When you specify the operations needed for a computation, you are telling TensorFlow how to construct a computation graph. The computation graph can have some placeholders whose values you will specify only later. Finally, when you run the session, you are telling TensorFlow to execute the computation graph."
   ]
  },
  {
   "cell_type": "markdown",
   "metadata": {},
   "source": [
    "### 1.1 - Linear function\n",
    "\n",
    "Lets start this programming exercise by computing the following equation: $Y = WX + b$, where $W$ and $X$ are random matrices and b is a random vector. \n",
    "\n",
    "**Exercise**: Compute $WX + b$ where $W, X$, and $b$ are drawn from a random normal distribution. W is of shape (4, 3), X is (3,1) and b is (4,1). As an example, here is how you would define a constant X that has shape (3,1):\n",
    "```python\n",
    "X = tf.constant(np.random.randn(3,1), name = \"X\")\n",
    "\n",
    "```\n",
    "You might find the following functions helpful: \n",
    "- tf.matmul(..., ...) to do a matrix multiplication\n",
    "- tf.add(..., ...) to do an addition\n",
    "- np.random.randn(...) to initialize randomly\n"
   ]
  },
  {
   "cell_type": "code",
   "execution_count": 7,
   "metadata": {},
   "outputs": [],
   "source": [
    "# GRADED FUNCTION: linear_function\n",
    "\n",
    "def linear_function():\n",
    "    \"\"\"\n",
    "    Implements a linear function: \n",
    "            Initializes W to be a random tensor of shape (4,3)\n",
    "            Initializes X to be a random tensor of shape (3,1)\n",
    "            Initializes b to be a random tensor of shape (4,1)\n",
    "    Returns: \n",
    "    result -- runs the session for Y = WX + b \n",
    "    \"\"\"\n",
    "    \n",
    "    np.random.seed(1)\n",
    "    \n",
    "    ### START CODE HERE ### (4 lines of code)  \n",
    "    W = tf.constant(np.random.randn(4, 3), name='W')\n",
    "    X = tf.constant(np.random.randn(3, 1), name='X')\n",
    "    b = tf.constant(np.random.randn(4, 1), name='b')\n",
    "    Y = tf.add(tf.matmul(W, X), b)\n",
    "    ### END CODE HERE ### \n",
    "\n",
    "    return Y.numpy()"
   ]
  },
  {
   "cell_type": "code",
   "execution_count": 8,
   "metadata": {},
   "outputs": [
    {
     "name": "stdout",
     "output_type": "stream",
     "text": [
      "result = [[-1.98748544]\n",
      " [-2.76826248]\n",
      " [-0.78635415]\n",
      " [-2.77463846]]\n"
     ]
    }
   ],
   "source": [
    "print( \"result = \" + str(linear_function()))"
   ]
  },
  {
   "cell_type": "markdown",
   "metadata": {},
   "source": [
    "*** Expected Output ***: \n",
    "\n",
    "<table> \n",
    "<tr> \n",
    "<td>\n",
    "**result**\n",
    "</td>\n",
    "<td>\n",
    "[[-1.98748544]\n",
    " [-2.76826248]\n",
    " [-0.78635415]\n",
    " [-2.77463846]]\n",
    "</td>\n",
    "</tr> \n",
    "\n",
    "</table> "
   ]
  },
  {
   "cell_type": "markdown",
   "metadata": {},
   "source": [
    "### 1.2 - Computing the sigmoid \n",
    "Great! You just implemented a linear function. Tensorflow offers a variety of commonly used neural network functions like `tf.sigmoid` and `tf.softmax`. For this exercise lets compute the sigmoid function of an input. \n",
    "\n",
    "You will do this exercise using a placeholder variable `x`. When running the session, you should use the feed dictionary to pass in the input `z`. In this exercise, you will have to (i) create a placeholder `x`, (ii) define the operations needed to compute the sigmoid using `tf.sigmoid`, and then (iii) run the session. \n",
    "\n",
    "** Exercise **: Implement the sigmoid function below. You should use the following: \n",
    "\n",
    "- `tf.placeholder(tf.float32, name = \"...\")`\n",
    "- `tf.sigmoid(...)`\n",
    "- `sess.run(..., feed_dict = {x: z})`\n",
    "\n",
    "\n",
    "Note that there are two typical ways to create and use sessions in tensorflow: \n",
    "\n",
    "**Method 1:**\n",
    "```python\n",
    "sess = tf.Session()\n",
    "# Run the variables initialization (if needed), run the operations\n",
    "result = sess.run(..., feed_dict = {...})\n",
    "sess.close() # Close the session\n",
    "```\n",
    "**Method 2:**\n",
    "```python\n",
    "with tf.Session() as sess: \n",
    "    # run the variables initialization (if needed), run the operations\n",
    "    result = sess.run(..., feed_dict = {...})\n",
    "    # This takes care of closing the session for you :)\n",
    "```\n"
   ]
  },
  {
   "cell_type": "code",
   "execution_count": 9,
   "metadata": {},
   "outputs": [],
   "source": [
    "# GRADED FUNCTION: sigmoid\n",
    "\n",
    "def sigmoid(z):\n",
    "    \"\"\"\n",
    "    Computes the sigmoid of z\n",
    "    \n",
    "    Arguments:\n",
    "    z -- input value, scalar or vector\n",
    "    \n",
    "    Returns: \n",
    "    results -- the sigmoid of z\n",
    "    \"\"\"\n",
    "    \n",
    "    ### START CODE HERE ### ( approx. 4 lines of code)\n",
    "    \n",
    "    # convert input data to float32\n",
    "    z = tf.cast(z,dtype=tf.float32)\n",
    "    \n",
    "    # compute sigmoid(z)\n",
    "    result = tf.sigmoid(z)\n",
    "    \n",
    "    ### END CODE HERE ###\n",
    "    \n",
    "    return result.numpy()"
   ]
  },
  {
   "cell_type": "code",
   "execution_count": 10,
   "metadata": {},
   "outputs": [
    {
     "name": "stdout",
     "output_type": "stream",
     "text": [
      "sigmoid(0) = 0.5\n",
      "sigmoid(12) = 0.99999386\n"
     ]
    }
   ],
   "source": [
    "print (\"sigmoid(0) = \" + str(sigmoid(0)))\n",
    "print (\"sigmoid(12) = \" + str(sigmoid(12)))"
   ]
  },
  {
   "cell_type": "markdown",
   "metadata": {},
   "source": [
    "*** Expected Output ***: \n",
    "\n",
    "<table> \n",
    "<tr> \n",
    "<td>\n",
    "**sigmoid(0)**\n",
    "</td>\n",
    "<td>\n",
    "0.5\n",
    "</td>\n",
    "</tr>\n",
    "<tr> \n",
    "<td>\n",
    "**sigmoid(12)**\n",
    "</td>\n",
    "<td>\n",
    "0.999994\n",
    "</td>\n",
    "</tr> \n",
    "\n",
    "</table> "
   ]
  },
  {
   "cell_type": "markdown",
   "metadata": {},
   "source": [
    "<font color='blue'>\n",
    "**To summarize, you how know how to**:\n",
    "1. Create placeholders\n",
    "2. Specify the computation graph corresponding to operations you want to compute\n",
    "3. Create the session\n",
    "4. Run the session, using a feed dictionary if necessary to specify placeholder variables' values. "
   ]
  },
  {
   "cell_type": "markdown",
   "metadata": {},
   "source": [
    "### 1.3 -  Computing the Cost\n",
    "\n",
    "You can also use a built-in function to compute the cost of your neural network. So instead of needing to write code to compute this as a function of $a^{[2](i)}$ and $y^{(i)}$ for i=1...m: \n",
    "$$ J = - \\frac{1}{m}  \\sum_{i = 1}^m  \\large ( \\small y^{(i)} \\log a^{ [2] (i)} + (1-y^{(i)})\\log (1-a^{ [2] (i)} )\\large )\\small\\tag{2}$$\n",
    "\n",
    "you can do it in one line of code in tensorflow!\n",
    "\n",
    "**Exercise**: Implement the cross entropy loss. The function you will use is: \n",
    "\n",
    "\n",
    "- `tf.nn.sigmoid_cross_entropy_with_logits(logits = ...,  labels = ...)`\n",
    "\n",
    "Your code should input `z`, compute the sigmoid (to get `a`) and then compute the cross entropy cost $J$. All this can be done using one call to `tf.nn.sigmoid_cross_entropy_with_logits`, which computes\n",
    "\n",
    "$$- \\frac{1}{m}  \\sum_{i = 1}^m  \\large ( \\small y^{(i)} \\log \\sigma(z^{[2](i)}) + (1-y^{(i)})\\log (1-\\sigma(z^{[2](i)})\\large )\\small\\tag{2}$$\n",
    "\n"
   ]
  },
  {
   "cell_type": "code",
   "execution_count": 11,
   "metadata": {},
   "outputs": [],
   "source": [
    "# GRADED FUNCTION: cost\n",
    "\n",
    "def cost(logits, labels):\n",
    "    \"\"\"\n",
    "    Computes the cost using the sigmoid cross entropy\n",
    "    \n",
    "    Arguments:\n",
    "    logits -- vector containing z, output of the last linear unit (before the final sigmoid activation)\n",
    "    labels -- vector of labels y (1 or 0) \n",
    "    \n",
    "    Note: What we've been calling \"z\" and \"y\" in this class are respectively called \"logits\" and \"labels\" \n",
    "    in the TensorFlow documentation. So logits will feed into z, and labels into y. \n",
    "    \n",
    "    Returns:\n",
    "    cost -- runs the session of the cost (formula (2))\n",
    "    \"\"\"\n",
    "    \n",
    "    ### START CODE HERE ### \n",
    "    logits = tf.cast(logits,dtype=tf.float32)\n",
    "    labels = tf.cast(labels,dtype=tf.float32)\n",
    "    # Use the loss function (approx. 1 line)\n",
    "    cost = tf.nn.sigmoid_cross_entropy_with_logits(logits=logits, labels=labels)\n",
    "    \n",
    "    ### END CODE HERE ###\n",
    "    \n",
    "    return cost"
   ]
  },
  {
   "cell_type": "code",
   "execution_count": 12,
   "metadata": {},
   "outputs": [
    {
     "name": "stdout",
     "output_type": "stream",
     "text": [
      "cost = [1.0053872  1.0366409  0.4138543  0.39956614]\n"
     ]
    }
   ],
   "source": [
    "logits = sigmoid(np.array([0.2,0.4,0.7,0.9]))\n",
    "cost_value = cost(logits, np.array([0,0,1,1]))\n",
    "print (\"cost = \" + str(cost_value.numpy()))"
   ]
  },
  {
   "cell_type": "markdown",
   "metadata": {},
   "source": [
    "** Expected Output** : \n",
    "\n",
    "<table> \n",
    "    <tr> \n",
    "        <td>\n",
    "            **cost**\n",
    "        </td>\n",
    "        <td>\n",
    "        [ 1.00538719  1.03664088  0.41385433  0.39956614]\n",
    "        </td>\n",
    "    </tr>\n",
    "\n",
    "</table>"
   ]
  },
  {
   "cell_type": "markdown",
   "metadata": {},
   "source": [
    "### 1.4 - Using One Hot encodings\n",
    "\n",
    "Many times in deep learning you will have a y vector with numbers ranging from 0 to C-1, where C is the number of classes. If C is for example 4, then you might have the following y vector which you will need to convert as follows:\n",
    "\n",
    "\n",
    "<img src=\"images/onehot.png\" style=\"width:600px;height:150px;\">\n",
    "\n",
    "This is called a \"one hot\" encoding, because in the converted representation exactly one element of each column is \"hot\" (meaning set to 1). To do this conversion in numpy, you might have to write a few lines of code. In tensorflow, you can use one line of code: \n",
    "\n",
    "- tf.one_hot(labels, depth, axis) \n",
    "\n",
    "**Exercise:** Implement the function below to take one vector of labels and the total number of classes $C$, and return the one hot encoding. Use `tf.one_hot()` to do this. "
   ]
  },
  {
   "cell_type": "code",
   "execution_count": 13,
   "metadata": {},
   "outputs": [],
   "source": [
    "# GRADED FUNCTION: one_hot_matrix\n",
    "\n",
    "def one_hot_matrix(labels, C):\n",
    "    \"\"\"\n",
    "    Creates a matrix where the i-th row corresponds to the ith class number and the jth column\n",
    "                     corresponds to the jth training example. So if example j had a label i. Then entry (i,j) \n",
    "                     will be 1. \n",
    "                     \n",
    "    Arguments:\n",
    "    labels -- vector containing the labels \n",
    "    C -- number of classes, the depth of the one hot dimension\n",
    "    \n",
    "    Returns: \n",
    "    one_hot -- one hot matrix\n",
    "    \"\"\"\n",
    "    \n",
    "    ### START CODE HERE ###\n",
    "    \n",
    "    # Create a tf.constant equal to C (depth), name it 'C'. (approx. 1 line)\n",
    "    C = tf.constant(C, name='C')\n",
    "    \n",
    "    # Use tf.one_hot, be careful with the axis (approx. 1 line)\n",
    "    one_hot_matrix = tf.one_hot(indices=labels, depth=C, axis=0)\n",
    "    \n",
    "    ### END CODE HERE ###\n",
    "    \n",
    "    return one_hot_matrix.numpy()"
   ]
  },
  {
   "cell_type": "code",
   "execution_count": 14,
   "metadata": {},
   "outputs": [
    {
     "name": "stdout",
     "output_type": "stream",
     "text": [
      "one_hot = [[0. 0. 0. 1. 0. 0.]\n",
      " [1. 0. 0. 0. 0. 1.]\n",
      " [0. 1. 0. 0. 1. 0.]\n",
      " [0. 0. 1. 0. 0. 0.]]\n"
     ]
    }
   ],
   "source": [
    "labels = np.array([1,2,3,0,2,1])\n",
    "one_hot_value = one_hot_matrix(labels, C = 4)\n",
    "print (\"one_hot = \" + str(one_hot_value))"
   ]
  },
  {
   "cell_type": "markdown",
   "metadata": {},
   "source": [
    "**Expected Output**: \n",
    "\n",
    "<table> \n",
    "    <tr> \n",
    "        <td>\n",
    "            **one_hot**\n",
    "        </td>\n",
    "        <td>\n",
    "        [[ 0.  0.  0.  1.  0.  0.]\n",
    " [ 1.  0.  0.  0.  0.  1.]\n",
    " [ 0.  1.  0.  0.  1.  0.]\n",
    " [ 0.  0.  1.  0.  0.  0.]]\n",
    "        </td>\n",
    "    </tr>\n",
    "\n",
    "</table>\n"
   ]
  },
  {
   "cell_type": "markdown",
   "metadata": {},
   "source": [
    "### 1.5 - Initialize with zeros and ones\n",
    "\n",
    "Now you will learn how to initialize a vector of zeros and ones. The function you will be calling is `tf.ones()`. To initialize with zeros you could use tf.zeros() instead. These functions take in a shape and return an array of dimension shape full of zeros and ones respectively. \n",
    "\n",
    "**Exercise:** Implement the function below to take in a shape and to return an array (of the shape's dimension of ones). \n",
    "\n",
    " - tf.ones(shape)\n"
   ]
  },
  {
   "cell_type": "code",
   "execution_count": 15,
   "metadata": {},
   "outputs": [],
   "source": [
    "# GRADED FUNCTION: ones\n",
    "\n",
    "def ones(shape):\n",
    "    \"\"\"\n",
    "    Creates an array of ones of dimension shape\n",
    "    \n",
    "    Arguments:\n",
    "    shape -- shape of the array you want to create\n",
    "        \n",
    "    Returns: \n",
    "    ones -- array containing only ones\n",
    "    \"\"\"\n",
    "    \n",
    "    ### START CODE HERE ###\n",
    "    \n",
    "    # Create \"ones\" tensor using tf.ones(...). (approx. 1 line)\n",
    "    ones = tf.ones(shape)\n",
    "    \n",
    "    ### END CODE HERE ###\n",
    "    return ones"
   ]
  },
  {
   "cell_type": "code",
   "execution_count": 16,
   "metadata": {},
   "outputs": [
    {
     "name": "stdout",
     "output_type": "stream",
     "text": [
      "ones = [1. 1. 1.]\n",
      "ones = [[1. 1. 1.]]\n"
     ]
    }
   ],
   "source": [
    "print (\"ones = \" + str(np.ones([3])))\n",
    "print (\"ones = \" + str(np.ones([1,3])))"
   ]
  },
  {
   "cell_type": "markdown",
   "metadata": {},
   "source": [
    "**Expected Output:**\n",
    "\n",
    "<table> \n",
    "    <tr> \n",
    "        <td>\n",
    "            **ones**\n",
    "        </td>\n",
    "        <td>\n",
    "        [ 1.  1.  1.]\n",
    "        </td>\n",
    "    </tr>\n",
    "\n",
    "</table>"
   ]
  },
  {
   "cell_type": "markdown",
   "metadata": {},
   "source": [
    "# 2 - Building your first neural network in tensorflow\n",
    "\n",
    "In this part of the assignment you will build a neural network using tensorflow. Remember that there are two parts to implement a tensorflow model:\n",
    "\n",
    "- Create the computation graph\n",
    "- Run the graph\n",
    "\n",
    "Let's delve into the problem you'd like to solve!\n",
    "\n",
    "### 2.0 - Problem statement: SIGNS Dataset\n",
    "\n",
    "One afternoon, with some friends we decided to teach our computers to decipher sign language. We spent a few hours taking pictures in front of a white wall and came up with the following dataset. It's now your job to build an algorithm that would facilitate communications from a speech-impaired person to someone who doesn't understand sign language.\n",
    "\n",
    "- **Training set**: 1080 pictures (64 by 64 pixels) of signs representing numbers from 0 to 5 (180 pictures per number).\n",
    "- **Test set**: 120 pictures (64 by 64 pixels) of signs representing numbers from 0 to 5 (20 pictures per number).\n",
    "\n",
    "Note that this is a subset of the SIGNS dataset. The complete dataset contains many more signs.\n",
    "\n",
    "Here are examples for each number, and how an explanation of how we represent the labels. These are the original pictures, before we lowered the image resolutoion to 64 by 64 pixels.\n",
    "<img src=\"images/hands.png\" style=\"width:800px;height:350px;\"><caption><center> <u><font color='purple'> **Figure 1**</u><font color='purple'>: SIGNS dataset <br> <font color='black'> </center>\n",
    "\n",
    "\n",
    "Run the following code to load the dataset."
   ]
  },
  {
   "cell_type": "code",
   "execution_count": 17,
   "metadata": {},
   "outputs": [],
   "source": [
    "# Loading the dataset\n",
    "X_train_orig, Y_train_orig, X_test_orig, Y_test_orig, classes = load_dataset()"
   ]
  },
  {
   "cell_type": "markdown",
   "metadata": {},
   "source": [
    "Change the index below and run the cell to visualize some examples in the dataset."
   ]
  },
  {
   "cell_type": "code",
   "execution_count": 18,
   "metadata": {},
   "outputs": [
    {
     "name": "stdout",
     "output_type": "stream",
     "text": [
      "y = 4\n"
     ]
    },
    {
     "data": {
      "image/png": "[encoded data removed]",
      "text/plain": [
       "<Figure size 640x480 with 1 Axes>"
      ]
     },
     "metadata": {},
     "output_type": "display_data"
    }
   ],
   "source": [
    "# Example of a picture\n",
    "index = 5\n",
    "plt.imshow(X_train_orig[index])\n",
    "print (\"y = \" + str(np.squeeze(Y_train_orig[:, index])))"
   ]
  },
  {
   "cell_type": "markdown",
   "metadata": {},
   "source": [
    "As usual you flatten the image dataset, then normalize it by dividing by 255. On top of that, you will convert each label to a one-hot vector as shown in Figure 1. Run the cell below to do so."
   ]
  },
  {
   "cell_type": "code",
   "execution_count": 19,
   "metadata": {
    "scrolled": true
   },
   "outputs": [
    {
     "name": "stdout",
     "output_type": "stream",
     "text": [
      "number of training examples = 1080\n",
      "number of test examples = 120\n",
      "X_train shape: (12288, 1080)\n",
      "Y_train shape: (6, 1080)\n",
      "X_test shape: (12288, 120)\n",
      "Y_test shape: (6, 120)\n"
     ]
    }
   ],
   "source": [
    "# Flatten the training and test images\n",
    "X_train_flatten = X_train_orig.reshape(X_train_orig.shape[0], -1).T\n",
    "X_test_flatten = X_test_orig.reshape(X_test_orig.shape[0], -1).T\n",
    "# Normalize image vectors\n",
    "X_train = X_train_flatten/255.\n",
    "X_test = X_test_flatten/255.\n",
    "# Convert training and test labels to one hot matrices\n",
    "Y_train = convert_to_one_hot(Y_train_orig, 6)\n",
    "Y_test = convert_to_one_hot(Y_test_orig, 6)\n",
    "\n",
    "print (\"number of training examples = \" + str(X_train.shape[1]))\n",
    "print (\"number of test examples = \" + str(X_test.shape[1]))\n",
    "print (\"X_train shape: \" + str(X_train.shape))\n",
    "print (\"Y_train shape: \" + str(Y_train.shape))\n",
    "print (\"X_test shape: \" + str(X_test.shape))\n",
    "print (\"Y_test shape: \" + str(Y_test.shape))"
   ]
  },
  {
   "cell_type": "markdown",
   "metadata": {},
   "source": [
    "**Note** that 12288 comes from $64 \\times 64 \\times 3$. Each image is square, 64 by 64 pixels, and 3 is for the RGB colors. Please make sure all these shapes make sense to you before continuing."
   ]
  },
  {
   "cell_type": "markdown",
   "metadata": {},
   "source": [
    "**Your goal** is to build an algorithm capable of recognizing a sign with high accuracy. To do so, you are going to build a tensorflow model that is almost the same as one you have previously built in numpy for cat recognition (but now using a softmax output). It is a great occasion to compare your numpy implementation to the tensorflow one. \n",
    "\n",
    "**The model** is *LINEAR -> RELU -> LINEAR -> RELU -> LINEAR -> SOFTMAX*. The SIGMOID output layer has been converted to a SOFTMAX. A SOFTMAX layer generalizes SIGMOID to when there are more than two classes. "
   ]
  },
  {
   "cell_type": "markdown",
   "metadata": {},
   "source": [
    "### 2.1 - Create placeholders\n",
    "\n",
    "Your first task is to create placeholders for `X` and `Y`. This will allow you to later pass your training data in when you run your session. \n",
    "\n",
    "**Exercise:** Implement the function below to create the placeholders in tensorflow."
   ]
  },
  {
   "cell_type": "code",
   "execution_count": 20,
   "metadata": {},
   "outputs": [],
   "source": [
    "# GRADED FUNCTION: create_placeholders\n",
    "\n",
    "def create_placeholders(n_x, n_y):\n",
    "    \"\"\"\n",
    "    Creates the placeholders for the tensorflow session.\n",
    "    \n",
    "    Arguments:\n",
    "    n_x -- scalar, size of an image vector (num_px * num_px = 64 * 64 * 3 = 12288)\n",
    "    n_y -- scalar, number of classes (from 0 to 5, so -> 6)\n",
    "    \n",
    "    Returns:\n",
    "    X -- placeholder for the data input, of shape [n_x, None] and dtype \"float\"\n",
    "    Y -- placeholder for the input labels, of shape [n_y, None] and dtype \"float\"\n",
    "    \n",
    "    Tips:\n",
    "    - You will use None because it let's us be flexible on the number of examples you will for the placeholders.\n",
    "      In fact, the number of examples during test/train is different.\n",
    "    \"\"\"\n",
    "\n",
    "    ### START CODE HERE ### (approx. 2 lines)\n",
    "    X = tf.Variable(tf.zeros((n_x,1)),shape=tf.TensorShape([n_x,None]),dtype=tf.float32, name='X')\n",
    "    Y = tf.Variable(tf.zeros((n_y,1)),shape=tf.TensorShape([n_y,None]),dtype=tf.float32, name='Y')\n",
    "    \n",
    "    \"\"\"X = tf.keras.Input(shape=(n_x,), dtype=tf.float32, name='X')\n",
    "    Y = tf.keras.Input(shape=(n_y,), dtype=tf.float32, name='Y')\n",
    "    \"\"\"\n",
    "    ### END CODE HERE ###\n",
    "    \n",
    "    return X, Y"
   ]
  },
  {
   "cell_type": "code",
   "execution_count": 21,
   "metadata": {},
   "outputs": [
    {
     "name": "stdout",
     "output_type": "stream",
     "text": [
      "X = <tf.Variable 'X:0' shape=(12288, None) dtype=float32, numpy=\n",
      "array([[0.],\n",
      "       [0.],\n",
      "       [0.],\n",
      "       ...,\n",
      "       [0.],\n",
      "       [0.],\n",
      "       [0.]], dtype=float32)>\n",
      "Y = <tf.Variable 'Y:0' shape=(6, None) dtype=float32, numpy=\n",
      "array([[0.],\n",
      "       [0.],\n",
      "       [0.],\n",
      "       [0.],\n",
      "       [0.],\n",
      "       [0.]], dtype=float32)>\n"
     ]
    }
   ],
   "source": [
    "X, Y = create_placeholders(12288, 6)\n",
    "print (\"X = \" + str(X))\n",
    "print (\"Y = \" + str(Y))"
   ]
  },
  {
   "cell_type": "markdown",
   "metadata": {},
   "source": [
    "**Expected Output**: \n",
    "\n",
    "<table> \n",
    "    <tr> \n",
    "        <td>\n",
    "            **X**\n",
    "        </td>\n",
    "        <td>\n",
    "        Tensor(\"Placeholder_1:0\", shape=(12288, ?), dtype=float32) (not necessarily Placeholder_1)\n",
    "        </td>\n",
    "    </tr>\n",
    "    <tr> \n",
    "        <td>\n",
    "            **Y**\n",
    "        </td>\n",
    "        <td>\n",
    "        Tensor(\"Placeholder_2:0\", shape=(6, ?), dtype=float32) (not necessarily Placeholder_2)\n",
    "        </td>\n",
    "    </tr>\n",
    "\n",
    "</table>"
   ]
  },
  {
   "cell_type": "markdown",
   "metadata": {},
   "source": [
    "### 2.2 - Initializing the parameters\n",
    "\n",
    "Your second task is to initialize the parameters in tensorflow.\n",
    "\n",
    "**Exercise:** Implement the function below to initialize the parameters in tensorflow. You are going use Xavier Initialization for weights and Zero Initialization for biases. The shapes are given below. As an example, to help you, for W1 and b1 you could use: \n",
    "\n",
    "```python\n",
    "W1 = tf.get_variable(\"W1\", [25,12288], initializer = tf.contrib.layers.xavier_initializer(seed = 1))\n",
    "b1 = tf.get_variable(\"b1\", [25,1], initializer = tf.zeros_initializer())\n",
    "```\n",
    "Please use `seed = 1` to make sure your results match ours."
   ]
  },
  {
   "cell_type": "code",
   "execution_count": 22,
   "metadata": {},
   "outputs": [],
   "source": [
    "# GRADED FUNCTION: initialize_parameters\n",
    "\n",
    "def initialize_parameters():\n",
    "    \"\"\"\n",
    "    Initializes parameters to build a neural network with tensorflow. The shapes are:\n",
    "                        W1 : [25, 12288]\n",
    "                        b1 : [25, 1]\n",
    "                        W2 : [12, 25]\n",
    "                        b2 : [12, 1]\n",
    "                        W3 : [6, 12]\n",
    "                        b3 : [6, 1]\n",
    "    \n",
    "    Returns:\n",
    "    parameters -- a dictionary of tensors containing W1, b1, W2, b2, W3, b3\n",
    "    \"\"\"\n",
    "    \n",
    "    tf.random.set_seed(1)                   # so that your \"random\" numbers match ours\n",
    "        \n",
    "    ### START CODE HERE ### (approx. 6 lines of code)\n",
    "    W1 = tf.Variable(tf.keras.initializers.GlorotUniform(seed=1)(shape=(25, 12288)), name=\"W1\")\n",
    "    b1 = tf.Variable(tf.zeros((25, 1)), name=\"b1\")\n",
    "    W2 = tf.Variable(tf.keras.initializers.GlorotUniform(seed=1)(shape=(12, 25)), name=\"W2\")\n",
    "    b2 = tf.Variable(tf.zeros((12, 1)), name=\"b2\")\n",
    "    W3 = tf.Variable(tf.keras.initializers.GlorotUniform(seed=1)(shape=(6, 12)), name=\"W3\")\n",
    "    b3 = tf.Variable(tf.zeros((6, 1)), name=\"b3\")\n",
    "\n",
    "    ### END CODE HERE ###\n",
    "\n",
    "    parameters = {\"W1\": W1,\n",
    "                  \"b1\": b1,\n",
    "                  \"W2\": W2,\n",
    "                  \"b2\": b2,\n",
    "                  \"W3\": W3,\n",
    "                  \"b3\": b3}\n",
    "    \n",
    "    return parameters"
   ]
  },
  {
   "cell_type": "code",
   "execution_count": 43,
   "metadata": {},
   "outputs": [
    {
     "name": "stdout",
     "output_type": "stream",
     "text": [
      "W1 = <tf.Variable 'W1:0' shape=(25, 12288) dtype=float32, numpy=\n",
      "array([[ 1.6709983e-02, -1.7668437e-03,  4.4277869e-03, ...,\n",
      "        -2.0409860e-02,  1.2577824e-02,  2.0119250e-03],\n",
      "       [-1.7880250e-02, -1.3661813e-03,  1.7239500e-02, ...,\n",
      "         1.9963894e-02, -2.1666976e-02,  1.2779485e-02],\n",
      "       [-1.6950723e-03,  8.4809698e-03, -3.0105226e-03, ...,\n",
      "         1.6032327e-03, -1.3424931e-02,  1.2222666e-02],\n",
      "       ...,\n",
      "       [-3.8248785e-03, -1.9217579e-02, -1.5035600e-02, ...,\n",
      "         1.9060567e-02,  2.0003520e-02,  1.5377998e-05],\n",
      "       [ 3.9651226e-03, -1.9923870e-02, -1.6923893e-02, ...,\n",
      "         3.9070603e-03,  5.1008463e-03, -1.5151719e-02],\n",
      "       [ 6.1693974e-04,  1.4706045e-02,  7.0033912e-03, ...,\n",
      "        -1.4057034e-02, -8.5559571e-03,  4.0868819e-03]], dtype=float32)>\n",
      "b1 = <tf.Variable 'b1:0' shape=(25, 1) dtype=float32, numpy=\n",
      "array([[0.],\n",
      "       [0.],\n",
      "       [0.],\n",
      "       [0.],\n",
      "       [0.],\n",
      "       [0.],\n",
      "       [0.],\n",
      "       [0.],\n",
      "       [0.],\n",
      "       [0.],\n",
      "       [0.],\n",
      "       [0.],\n",
      "       [0.],\n",
      "       [0.],\n",
      "       [0.],\n",
      "       [0.],\n",
      "       [0.],\n",
      "       [0.],\n",
      "       [0.],\n",
      "       [0.],\n",
      "       [0.],\n",
      "       [0.],\n",
      "       [0.],\n",
      "       [0.],\n",
      "       [0.]], dtype=float32)>\n",
      "W2 = <tf.Variable 'W2:0' shape=(12, 25) dtype=float32, numpy=\n",
      "array([[ 0.30482954, -0.03223139,  0.08077329, -0.08650047, -0.19877501,\n",
      "        -0.04486069, -0.12651557,  0.22266728, -0.36635032,  0.25561798,\n",
      "        -0.4023356 , -0.01642802, -0.00252679, -0.22082362,  0.33855814,\n",
      "        -0.09105277, -0.31232274, -0.1388166 , -0.37252587, -0.10941193,\n",
      "        -0.06592023, -0.12614122,  0.10674238, -0.03959331, -0.01977703],\n",
      "       [ 0.1391629 ,  0.009242  , -0.11180678,  0.00931388,  0.09171793,\n",
      "        -0.00644377,  0.17453086,  0.2335468 , -0.32267305,  0.11329818,\n",
      "         0.27279586, -0.2866029 , -0.38289183,  0.20805585, -0.10315123,\n",
      "         0.34365487,  0.20335072,  0.2201218 , -0.06808773, -0.1775992 ,\n",
      "         0.38620168,  0.34256786,  0.20511395,  0.07350624,  0.37636608],\n",
      "       [ 0.14789343,  0.35183388, -0.170235  ,  0.21421784,  0.12320745,\n",
      "        -0.34180212, -0.08534107, -0.02601543,  0.3566233 , -0.27985907,\n",
      "         0.05547601, -0.15629236,  0.39853853,  0.14308268,  0.12539858,\n",
      "        -0.17201328,  0.02578223,  0.3423283 ,  0.07654676,  0.2503171 ,\n",
      "         0.30242229,  0.22715485, -0.17611635,  0.24121797,  0.11540091],\n",
      "       [-0.07155675, -0.17077206,  0.16066664, -0.2969531 ,  0.17866802,\n",
      "         0.25197643, -0.02738667, -0.36703584, -0.3741586 ,  0.09065068,\n",
      "        -0.23451228,  0.34366536,  0.03056198, -0.2103049 ,  0.04467356,\n",
      "         0.06416371, -0.0674338 , -0.08626419, -0.03715265,  0.05515945,\n",
      "        -0.16931243, -0.20090191,  0.30888873,  0.20732439, -0.07356086],\n",
      "       [-0.21536624, -0.35048175, -0.26106876,  0.03394756,  0.35472345,\n",
      "         0.26781553,  0.13685846,  0.02629042,  0.30573082,  0.25710183,\n",
      "         0.04327971,  0.0943172 ,  0.1655891 ,  0.0437102 ,  0.11685854,\n",
      "        -0.07272395, -0.3344899 , -0.30900463,  0.13859403,  0.15851384,\n",
      "         0.11773258, -0.33479014, -0.2620253 , -0.30488658, -0.05010474],\n",
      "       [ 0.3334167 ,  0.2200523 , -0.29331157, -0.15915355,  0.09499183,\n",
      "        -0.14354181,  0.10679555,  0.146545  ,  0.3443337 ,  0.00553831,\n",
      "         0.18019289, -0.18617192, -0.2537195 , -0.3082043 , -0.1984213 ,\n",
      "         0.29814535,  0.21386904, -0.38548276, -0.10692325,  0.12276083,\n",
      "         0.00748098,  0.21473908,  0.23588252,  0.2613244 , -0.24737307],\n",
      "       [-0.16024029, -0.2704437 ,  0.26559186, -0.12199658,  0.18642932,\n",
      "        -0.10306031, -0.0587047 , -0.28396636, -0.00690684, -0.06384027,\n",
      "        -0.22740258,  0.17335355,  0.28543252,  0.13408965,  0.09803063,\n",
      "         0.02385092, -0.33768857, -0.2641586 ,  0.01866794, -0.15850587,\n",
      "        -0.06785288,  0.15321773, -0.28094995, -0.01025921,  0.25330496],\n",
      "       [-0.14783305, -0.17923714, -0.13284558,  0.3496307 , -0.25854206,\n",
      "         0.2452423 , -0.34516513,  0.24204403, -0.32651928, -0.20080091,\n",
      "         0.01155898,  0.27184653,  0.13956857, -0.00780097, -0.3284749 ,\n",
      "         0.36295235, -0.1796183 ,  0.37684685,  0.18379396, -0.26656193,\n",
      "         0.11922604,  0.17644846, -0.21317078, -0.38804102, -0.081974  ],\n",
      "       [ 0.31533217, -0.10858795, -0.03127083, -0.40035138, -0.13446274,\n",
      "        -0.3312927 , -0.26076794, -0.25211728,  0.1317594 , -0.04213527,\n",
      "        -0.3510074 ,  0.38080746, -0.01623294, -0.39753485,  0.2130087 ,\n",
      "        -0.2959024 , -0.09976381,  0.11927634, -0.22497383, -0.05698776,\n",
      "         0.12026733,  0.27204025, -0.19068466, -0.15504031,  0.23873699],\n",
      "       [ 0.04772419,  0.30643213,  0.34290218, -0.01670039,  0.22646815,\n",
      "         0.0066213 ,  0.08617201, -0.02426335,  0.26682556, -0.05727619,\n",
      "         0.2812392 , -0.11569872,  0.07444942, -0.18359454,  0.23288983,\n",
      "         0.30553895, -0.15542425, -0.3736844 ,  0.25895894, -0.14580014,\n",
      "        -0.37631306,  0.1458137 , -0.09608778, -0.34431678, -0.2810644 ],\n",
      "       [-0.30433396,  0.1876347 ,  0.05942661, -0.13830006,  0.24322218,\n",
      "         0.3726068 , -0.30146903,  0.09688449, -0.15777956,  0.04488087,\n",
      "         0.12799132, -0.12219185, -0.30096728, -0.05718181, -0.26216602,\n",
      "         0.19317257,  0.3440106 ,  0.37318236, -0.364825  , -0.22692955,\n",
      "        -0.04081973, -0.16118829,  0.11672181, -0.09000501, -0.28701591],\n",
      "       [-0.3001294 ,  0.32648426, -0.21108852, -0.01146373, -0.230939  ,\n",
      "         0.0600695 ,  0.2631727 ,  0.12547278,  0.2086091 , -0.08696803,\n",
      "         0.1723404 ,  0.2861911 , -0.01524824, -0.09159878,  0.37623143,\n",
      "        -0.17719752,  0.12819487, -0.36174887,  0.3394435 , -0.34818637,\n",
      "        -0.01484346, -0.18818937,  0.23161864, -0.35496905, -0.13087037]],\n",
      "      dtype=float32)>\n",
      "b2 = <tf.Variable 'b2:0' shape=(12, 1) dtype=float32, numpy=\n",
      "array([[0.],\n",
      "       [0.],\n",
      "       [0.],\n",
      "       [0.],\n",
      "       [0.],\n",
      "       [0.],\n",
      "       [0.],\n",
      "       [0.],\n",
      "       [0.],\n",
      "       [0.],\n",
      "       [0.],\n",
      "       [0.]], dtype=float32)>\n",
      "{'W1': <tf.Variable 'W1:0' shape=(25, 12288) dtype=float32, numpy=\n",
      "array([[ 1.6709983e-02, -1.7668437e-03,  4.4277869e-03, ...,\n",
      "        -2.0409860e-02,  1.2577824e-02,  2.0119250e-03],\n",
      "       [-1.7880250e-02, -1.3661813e-03,  1.7239500e-02, ...,\n",
      "         1.9963894e-02, -2.1666976e-02,  1.2779485e-02],\n",
      "       [-1.6950723e-03,  8.4809698e-03, -3.0105226e-03, ...,\n",
      "         1.6032327e-03, -1.3424931e-02,  1.2222666e-02],\n",
      "       ...,\n",
      "       [-3.8248785e-03, -1.9217579e-02, -1.5035600e-02, ...,\n",
      "         1.9060567e-02,  2.0003520e-02,  1.5377998e-05],\n",
      "       [ 3.9651226e-03, -1.9923870e-02, -1.6923893e-02, ...,\n",
      "         3.9070603e-03,  5.1008463e-03, -1.5151719e-02],\n",
      "       [ 6.1693974e-04,  1.4706045e-02,  7.0033912e-03, ...,\n",
      "        -1.4057034e-02, -8.5559571e-03,  4.0868819e-03]], dtype=float32)>, 'b1': <tf.Variable 'b1:0' shape=(25, 1) dtype=float32, numpy=\n",
      "array([[0.],\n",
      "       [0.],\n",
      "       [0.],\n",
      "       [0.],\n",
      "       [0.],\n",
      "       [0.],\n",
      "       [0.],\n",
      "       [0.],\n",
      "       [0.],\n",
      "       [0.],\n",
      "       [0.],\n",
      "       [0.],\n",
      "       [0.],\n",
      "       [0.],\n",
      "       [0.],\n",
      "       [0.],\n",
      "       [0.],\n",
      "       [0.],\n",
      "       [0.],\n",
      "       [0.],\n",
      "       [0.],\n",
      "       [0.],\n",
      "       [0.],\n",
      "       [0.],\n",
      "       [0.]], dtype=float32)>, 'W2': <tf.Variable 'W2:0' shape=(12, 25) dtype=float32, numpy=\n",
      "array([[ 0.30482954, -0.03223139,  0.08077329, -0.08650047, -0.19877501,\n",
      "        -0.04486069, -0.12651557,  0.22266728, -0.36635032,  0.25561798,\n",
      "        -0.4023356 , -0.01642802, -0.00252679, -0.22082362,  0.33855814,\n",
      "        -0.09105277, -0.31232274, -0.1388166 , -0.37252587, -0.10941193,\n",
      "        -0.06592023, -0.12614122,  0.10674238, -0.03959331, -0.01977703],\n",
      "       [ 0.1391629 ,  0.009242  , -0.11180678,  0.00931388,  0.09171793,\n",
      "        -0.00644377,  0.17453086,  0.2335468 , -0.32267305,  0.11329818,\n",
      "         0.27279586, -0.2866029 , -0.38289183,  0.20805585, -0.10315123,\n",
      "         0.34365487,  0.20335072,  0.2201218 , -0.06808773, -0.1775992 ,\n",
      "         0.38620168,  0.34256786,  0.20511395,  0.07350624,  0.37636608],\n",
      "       [ 0.14789343,  0.35183388, -0.170235  ,  0.21421784,  0.12320745,\n",
      "        -0.34180212, -0.08534107, -0.02601543,  0.3566233 , -0.27985907,\n",
      "         0.05547601, -0.15629236,  0.39853853,  0.14308268,  0.12539858,\n",
      "        -0.17201328,  0.02578223,  0.3423283 ,  0.07654676,  0.2503171 ,\n",
      "         0.30242229,  0.22715485, -0.17611635,  0.24121797,  0.11540091],\n",
      "       [-0.07155675, -0.17077206,  0.16066664, -0.2969531 ,  0.17866802,\n",
      "         0.25197643, -0.02738667, -0.36703584, -0.3741586 ,  0.09065068,\n",
      "        -0.23451228,  0.34366536,  0.03056198, -0.2103049 ,  0.04467356,\n",
      "         0.06416371, -0.0674338 , -0.08626419, -0.03715265,  0.05515945,\n",
      "        -0.16931243, -0.20090191,  0.30888873,  0.20732439, -0.07356086],\n",
      "       [-0.21536624, -0.35048175, -0.26106876,  0.03394756,  0.35472345,\n",
      "         0.26781553,  0.13685846,  0.02629042,  0.30573082,  0.25710183,\n",
      "         0.04327971,  0.0943172 ,  0.1655891 ,  0.0437102 ,  0.11685854,\n",
      "        -0.07272395, -0.3344899 , -0.30900463,  0.13859403,  0.15851384,\n",
      "         0.11773258, -0.33479014, -0.2620253 , -0.30488658, -0.05010474],\n",
      "       [ 0.3334167 ,  0.2200523 , -0.29331157, -0.15915355,  0.09499183,\n",
      "        -0.14354181,  0.10679555,  0.146545  ,  0.3443337 ,  0.00553831,\n",
      "         0.18019289, -0.18617192, -0.2537195 , -0.3082043 , -0.1984213 ,\n",
      "         0.29814535,  0.21386904, -0.38548276, -0.10692325,  0.12276083,\n",
      "         0.00748098,  0.21473908,  0.23588252,  0.2613244 , -0.24737307],\n",
      "       [-0.16024029, -0.2704437 ,  0.26559186, -0.12199658,  0.18642932,\n",
      "        -0.10306031, -0.0587047 , -0.28396636, -0.00690684, -0.06384027,\n",
      "        -0.22740258,  0.17335355,  0.28543252,  0.13408965,  0.09803063,\n",
      "         0.02385092, -0.33768857, -0.2641586 ,  0.01866794, -0.15850587,\n",
      "        -0.06785288,  0.15321773, -0.28094995, -0.01025921,  0.25330496],\n",
      "       [-0.14783305, -0.17923714, -0.13284558,  0.3496307 , -0.25854206,\n",
      "         0.2452423 , -0.34516513,  0.24204403, -0.32651928, -0.20080091,\n",
      "         0.01155898,  0.27184653,  0.13956857, -0.00780097, -0.3284749 ,\n",
      "         0.36295235, -0.1796183 ,  0.37684685,  0.18379396, -0.26656193,\n",
      "         0.11922604,  0.17644846, -0.21317078, -0.38804102, -0.081974  ],\n",
      "       [ 0.31533217, -0.10858795, -0.03127083, -0.40035138, -0.13446274,\n",
      "        -0.3312927 , -0.26076794, -0.25211728,  0.1317594 , -0.04213527,\n",
      "        -0.3510074 ,  0.38080746, -0.01623294, -0.39753485,  0.2130087 ,\n",
      "        -0.2959024 , -0.09976381,  0.11927634, -0.22497383, -0.05698776,\n",
      "         0.12026733,  0.27204025, -0.19068466, -0.15504031,  0.23873699],\n",
      "       [ 0.04772419,  0.30643213,  0.34290218, -0.01670039,  0.22646815,\n",
      "         0.0066213 ,  0.08617201, -0.02426335,  0.26682556, -0.05727619,\n",
      "         0.2812392 , -0.11569872,  0.07444942, -0.18359454,  0.23288983,\n",
      "         0.30553895, -0.15542425, -0.3736844 ,  0.25895894, -0.14580014,\n",
      "        -0.37631306,  0.1458137 , -0.09608778, -0.34431678, -0.2810644 ],\n",
      "       [-0.30433396,  0.1876347 ,  0.05942661, -0.13830006,  0.24322218,\n",
      "         0.3726068 , -0.30146903,  0.09688449, -0.15777956,  0.04488087,\n",
      "         0.12799132, -0.12219185, -0.30096728, -0.05718181, -0.26216602,\n",
      "         0.19317257,  0.3440106 ,  0.37318236, -0.364825  , -0.22692955,\n",
      "        -0.04081973, -0.16118829,  0.11672181, -0.09000501, -0.28701591],\n",
      "       [-0.3001294 ,  0.32648426, -0.21108852, -0.01146373, -0.230939  ,\n",
      "         0.0600695 ,  0.2631727 ,  0.12547278,  0.2086091 , -0.08696803,\n",
      "         0.1723404 ,  0.2861911 , -0.01524824, -0.09159878,  0.37623143,\n",
      "        -0.17719752,  0.12819487, -0.36174887,  0.3394435 , -0.34818637,\n",
      "        -0.01484346, -0.18818937,  0.23161864, -0.35496905, -0.13087037]],\n",
      "      dtype=float32)>, 'b2': <tf.Variable 'b2:0' shape=(12, 1) dtype=float32, numpy=\n",
      "array([[0.],\n",
      "       [0.],\n",
      "       [0.],\n",
      "       [0.],\n",
      "       [0.],\n",
      "       [0.],\n",
      "       [0.],\n",
      "       [0.],\n",
      "       [0.],\n",
      "       [0.],\n",
      "       [0.],\n",
      "       [0.]], dtype=float32)>, 'W3': <tf.Variable 'W3:0' shape=(6, 12) dtype=float32, numpy=\n",
      "array([[ 0.43704045, -0.04621083,  0.11580634, -0.12401751, -0.28498787,\n",
      "        -0.0643177 , -0.18138799,  0.31924272, -0.5252441 ,  0.36648488,\n",
      "        -0.57683694, -0.02355319],\n",
      "       [-0.00362271, -0.31659943,  0.48539782, -0.13054425, -0.44778362,\n",
      "        -0.19902426, -0.5340981 , -0.15686616, -0.09451121, -0.18085128,\n",
      "         0.15303874, -0.05676579],\n",
      "       [-0.02835476,  0.19952077,  0.01325041, -0.16029972,  0.01335353,\n",
      "         0.13149786, -0.0092386 ,  0.25022852,  0.33484095, -0.4626231 ,\n",
      "         0.16243798,  0.3911131 ],\n",
      "       [-0.41090855, -0.54896003,  0.29829407, -0.14789006,  0.49270523,\n",
      "         0.2915482 ,  0.31559318, -0.09761882, -0.2546277 ,  0.55370533,\n",
      "         0.49114668,  0.29407614],\n",
      "       [ 0.10538739,  0.5396038 ,  0.21203792,  0.5044316 , -0.24406946,\n",
      "         0.3071286 ,  0.1766451 , -0.49004883, -0.12235525, -0.03729886,\n",
      "         0.5112983 , -0.4012398 ],\n",
      "       [ 0.07953709, -0.22407964,  0.571393  ,  0.20514065,  0.17978656,\n",
      "        -0.24661902,  0.03696454,  0.49080324,  0.10974669,  0.35888487,\n",
      "         0.43358922,  0.32567668]], dtype=float32)>, 'b3': <tf.Variable 'b3:0' shape=(6, 1) dtype=float32, numpy=\n",
      "array([[0.],\n",
      "       [0.],\n",
      "       [0.],\n",
      "       [0.],\n",
      "       [0.],\n",
      "       [0.]], dtype=float32)>}\n"
     ]
    }
   ],
   "source": [
    "\n",
    "parameters = initialize_parameters()\n",
    "print(\"W1 = \" + str(parameters[\"W1\"]))\n",
    "print(\"b1 = \" + str(parameters[\"b1\"]))\n",
    "print(\"W2 = \" + str(parameters[\"W2\"]))\n",
    "print(\"b2 = \" + str(parameters[\"b2\"]))\n",
    "print(parameters)"
   ]
  },
  {
   "cell_type": "markdown",
   "metadata": {},
   "source": [
    "**Expected Output**: \n",
    "\n",
    "<table> \n",
    "    <tr> \n",
    "        <td>\n",
    "            **W1**\n",
    "        </td>\n",
    "        <td>\n",
    "         < tf.Variable 'W1:0' shape=(25, 12288) dtype=float32_ref >\n",
    "        </td>\n",
    "    </tr>\n",
    "    <tr> \n",
    "        <td>\n",
    "            **b1**\n",
    "        </td>\n",
    "        <td>\n",
    "        < tf.Variable 'b1:0' shape=(25, 1) dtype=float32_ref >\n",
    "        </td>\n",
    "    </tr>\n",
    "    <tr> \n",
    "        <td>\n",
    "            **W2**\n",
    "        </td>\n",
    "        <td>\n",
    "        < tf.Variable 'W2:0' shape=(12, 25) dtype=float32_ref >\n",
    "        </td>\n",
    "    </tr>\n",
    "    <tr> \n",
    "        <td>\n",
    "            **b2**\n",
    "        </td>\n",
    "        <td>\n",
    "        < tf.Variable 'b2:0' shape=(12, 1) dtype=float32_ref >\n",
    "        </td>\n",
    "    </tr>\n",
    "\n",
    "</table>"
   ]
  },
  {
   "cell_type": "markdown",
   "metadata": {},
   "source": [
    "As expected, the parameters haven't been evaluated yet."
   ]
  },
  {
   "cell_type": "markdown",
   "metadata": {},
   "source": [
    "### 2.3 - Forward propagation in tensorflow \n",
    "\n",
    "You will now implement the forward propagation module in tensorflow. The function will take in a dictionary of parameters and it will complete the forward pass. The functions you will be using are: \n",
    "\n",
    "- `tf.add(...,...)` to do an addition\n",
    "- `tf.matmul(...,...)` to do a matrix multiplication\n",
    "- `tf.nn.relu(...)` to apply the ReLU activation\n",
    "\n",
    "**Question:** Implement the forward pass of the neural network. We commented for you the numpy equivalents so that you can compare the tensorflow implementation to numpy. It is important to note that the forward propagation stops at `z3`. The reason is that in tensorflow the last linear layer output is given as input to the function computing the loss. Therefore, you don't need `a3`!\n",
    "\n"
   ]
  },
  {
   "cell_type": "code",
   "execution_count": 24,
   "metadata": {},
   "outputs": [],
   "source": [
    "# GRADED FUNCTION: forward_propagation\n",
    "\n",
    "def forward_propagation(X, parameters):\n",
    "    \"\"\"\n",
    "    Implements the forward propagation for the model: LINEAR -> RELU -> LINEAR -> RELU -> LINEAR -> SOFTMAX\n",
    "    \n",
    "    Arguments:\n",
    "    X -- input dataset placeholder, of shape (input size, number of examples)\n",
    "    parameters -- python dictionary containing your parameters \"W1\", \"b1\", \"W2\", \"b2\", \"W3\", \"b3\"\n",
    "                  the shapes are given in initialize_parameters\n",
    "\n",
    "    Returns:\n",
    "    Z3 -- the output of the last LINEAR unit\n",
    "    \"\"\"\n",
    "    \n",
    "    # Retrieve the parameters from the dictionary \"parameters\" \n",
    "    W1 = parameters['W1']\n",
    "    b1 = parameters['b1']\n",
    "    W2 = parameters['W2']\n",
    "    b2 = parameters['b2']\n",
    "    W3 = parameters['W3']\n",
    "    b3 = parameters['b3']\n",
    "    \n",
    "    ### START CODE HERE ### (approx. 5 lines)              # Numpy Equivalents:\n",
    "    Z1 = tf.add(tf.matmul(W1, X), b1)                      # Z1 = np.dot(W1, X) + b1\n",
    "    A1 = tf.nn.relu(Z1)                                    # A1 = relu(Z1)\n",
    "    Z2 = tf.add(tf.matmul(W2, A1), b2)                     # Z2 = np.dot(W2, a1) + b2\n",
    "    A2 = tf.nn.relu(Z2)                                    # A2 = relu(Z2)\n",
    "    Z3 = tf.add(tf.matmul(W3, A2), b3)                     # Z3 = np.dot(W3,Z2) + b3\n",
    "    ### END CODE HERE ###\n",
    "    \n",
    "    return Z3"
   ]
  },
  {
   "cell_type": "code",
   "execution_count": 25,
   "metadata": {
    "scrolled": true
   },
   "outputs": [
    {
     "name": "stdout",
     "output_type": "stream",
     "text": [
      "<tf.Variable 'X:0' shape=(12288, None) dtype=float32, numpy=\n",
      "array([[0.],\n",
      "       [0.],\n",
      "       [0.],\n",
      "       ...,\n",
      "       [0.],\n",
      "       [0.],\n",
      "       [0.]], dtype=float32)>\n",
      "Z3 = tf.Tensor(\n",
      "[[0.]\n",
      " [0.]\n",
      " [0.]\n",
      " [0.]\n",
      " [0.]\n",
      " [0.]], shape=(6, 1), dtype=float32)\n"
     ]
    }
   ],
   "source": [
    "X, Y = create_placeholders(12288, 6)\n",
    "print(X)\n",
    "\n",
    "parameters = initialize_parameters()\n",
    "Z3 = forward_propagation(X, parameters)\n",
    "print(\"Z3 = \" + str(Z3))"
   ]
  },
  {
   "cell_type": "markdown",
   "metadata": {},
   "source": [
    "**Expected Output**: \n",
    "\n",
    "<table> \n",
    "    <tr> \n",
    "        <td>\n",
    "            **Z3**\n",
    "        </td>\n",
    "        <td>\n",
    "        Tensor(\"Add_2:0\", shape=(6, ?), dtype=float32)\n",
    "        </td>\n",
    "    </tr>\n",
    "\n",
    "</table>"
   ]
  },
  {
   "cell_type": "markdown",
   "metadata": {},
   "source": [
    "You may have noticed that the forward propagation doesn't output any cache. You will understand why below, when we get to brackpropagation."
   ]
  },
  {
   "cell_type": "markdown",
   "metadata": {},
   "source": [
    "### 2.4 Compute cost\n",
    "\n",
    "As seen before, it is very easy to compute the cost using:\n",
    "```python\n",
    "tf.reduce_mean(tf.nn.softmax_cross_entropy_with_logits(logits = ..., labels = ...))\n",
    "```\n",
    "**Question**: Implement the cost function below. \n",
    "- It is important to know that the \"`logits`\" and \"`labels`\" inputs of `tf.nn.softmax_cross_entropy_with_logits` are expected to be of shape (number of examples, num_classes). We have thus transposed Z3 and Y for you.\n",
    "- Besides, `tf.reduce_mean` basically does the summation over the examples."
   ]
  },
  {
   "cell_type": "code",
   "execution_count": 26,
   "metadata": {},
   "outputs": [],
   "source": [
    "# GRADED FUNCTION: compute_cost \n",
    "\n",
    "def compute_cost(Z3, Y):\n",
    "    \"\"\"\n",
    "    Computes the cost\n",
    "    \n",
    "    Arguments:\n",
    "    Z3 -- output of forward propagation (output of the last LINEAR unit), of shape (6, number of examples)\n",
    "    Y -- \"true\" labels vector placeholder, same shape as Z3\n",
    "    \n",
    "    Returns:\n",
    "    cost - Tensor of the cost function\n",
    "    \"\"\"\n",
    "    \n",
    "    # to fit the tensorflow requirement for tf.nn.softmax_cross_entropy_with_logits(...,...)\n",
    "    logits = tf.transpose(Z3)   # 转置\n",
    "    labels = tf.transpose(Y)\n",
    "    \n",
    "    ### START CODE HERE ### (1 line of code)\n",
    "    # tf.reduce_mean 函数用于计算张量tensor沿着指定的数轴（tensor的某一维度）上的的平均值，\n",
    "    # 主要用作降维或者计算tensor（图像）的平均值。\n",
    "    cost = tf.reduce_mean(tf.nn.softmax_cross_entropy_with_logits(logits=logits,\n",
    "                                                                 labels=labels))\n",
    "    \n",
    "    ### END CODE HERE ###\n",
    "    \n",
    "    return cost"
   ]
  },
  {
   "cell_type": "code",
   "execution_count": 27,
   "metadata": {},
   "outputs": [
    {
     "name": "stdout",
     "output_type": "stream",
     "text": [
      "cost = tf.Tensor(0.0, shape=(), dtype=float32)\n",
      "tf.Tensor(0.0, shape=(), dtype=float32)\n"
     ]
    }
   ],
   "source": [
    "X, Y = create_placeholders(12288, 6)\n",
    "parameters = initialize_parameters()\n",
    "Z3 = forward_propagation(X, parameters)\n",
    "cost = compute_cost(Z3, Y)\n",
    "print(\"cost = \" + str(cost))\n",
    "print(cost)"
   ]
  },
  {
   "cell_type": "markdown",
   "metadata": {},
   "source": [
    "**Expected Output**: \n",
    "\n",
    "<table> \n",
    "    <tr> \n",
    "        <td>\n",
    "            **cost**\n",
    "        </td>\n",
    "        <td>\n",
    "        Tensor(\"Mean:0\", shape=(), dtype=float32)\n",
    "        </td>\n",
    "    </tr>\n",
    "\n",
    "</table>"
   ]
  },
  {
   "cell_type": "markdown",
   "metadata": {},
   "source": [
    "### 2.5 - Backward propagation & parameter updates\n",
    "\n",
    "This is where you become grateful to programming frameworks. All the backpropagation and the parameters update is taken care of in 1 line of code. It is very easy to incorporate this line in the model.\n",
    "\n",
    "After you compute the cost function. You will create an \"`optimizer`\" object. You have to call this object along with the cost when running the tf.session. When called, it will perform an optimization on the given cost with the chosen method and learning rate.\n",
    "\n",
    "For instance, for gradient descent the optimizer would be:\n",
    "```python\n",
    "optimizer = tf.train.GradientDescentOptimizer(learning_rate = learning_rate).minimize(cost)\n",
    "```\n",
    "\n",
    "To make the optimization you would do:\n",
    "```python\n",
    "_ , c = sess.run([optimizer, cost], feed_dict={X: minibatch_X, Y: minibatch_Y})\n",
    "```\n",
    "\n",
    "This computes the backpropagation by passing through the tensorflow graph in the reverse order. From cost to inputs.\n",
    "\n",
    "**Note** When coding, we often use `_` as a \"throwaway\" variable to store values that we won't need to use later. Here, `_` takes on the evaluated value of `optimizer`, which we don't need (and `c` takes the value of the `cost` variable). "
   ]
  },
  {
   "cell_type": "markdown",
   "metadata": {},
   "source": [
    "### 2.6 - Building the model\n",
    "\n",
    "Now, you will bring it all together! \n",
    "\n",
    "**Exercise:** Implement the model. You will be calling the functions you had previously implemented."
   ]
  },
  {
   "cell_type": "code",
   "execution_count": 49,
   "metadata": {},
   "outputs": [],
   "source": [
    "def model(X_train, Y_train, X_test, Y_test, learning_rate = 0.0001,\n",
    "          num_epochs = 1500, minibatch_size = 32, print_cost = True):\n",
    "    \"\"\"\n",
    "    Implements a three-layer tensorflow neural network: LINEAR->RELU->LINEAR->RELU->LINEAR->SOFTMAX.\n",
    "    \n",
    "    Arguments:\n",
    "    X_train -- training set, of shape (input size = 12288, number of training examples = 1080)\n",
    "    Y_train -- test set, of shape (output size = 6, number of training examples = 1080)\n",
    "    X_test -- training set, of shape (input size = 12288, number of training examples = 120)\n",
    "    Y_test -- test set, of shape (output size = 6, number of test examples = 120)\n",
    "    learning_rate -- learning rate of the optimization\n",
    "    num_epochs -- number of epochs of the optimization loop\n",
    "    minibatch_size -- size of a minibatch\n",
    "    print_cost -- True to print the cost every 100 epochs\n",
    "    \n",
    "    Returns:\n",
    "    parameters -- parameters learnt by the model. They can then be used to predict.\n",
    "    \"\"\"\n",
    "    \n",
    "                             # to be able to rerun the model without overwriting tf variables\n",
    "    tf.random.set_seed(1)                             # to keep consistent results\n",
    "    seed = 3                                          # to keep consistent results\n",
    "    (n_x, m) = X_train.shape                          # (n_x: input size, m : number of examples in the train set)\n",
    "    n_y = Y_train.shape[0]                            # n_y : output size\n",
    "    costs = []                                        # To keep track of the cost\n",
    "    \n",
    "    # Create Placeholders of shape (n_x, n_y)\n",
    "    ### START CODE HERE ### (1 line)\n",
    "    X, Y = create_placeholders(n_x, n_y)\n",
    "    ### END CODE HERE ###\n",
    "\n",
    "    # Initialize parameters\n",
    "    ### START CODE HERE ### (1 line)\n",
    "    parameters = initialize_parameters()\n",
    "    ### END CODE HERE ###\n",
    "    \n",
    "    # Forward propagation: Build the forward propagation in the tensorflow graph\n",
    "    ### START CODE HERE ### (1 line)\n",
    "    Z3 = forward_propagation(X, parameters)\n",
    "    ### END CODE HERE ###\n",
    "    \n",
    "    # Cost function: Add cost function to tensorflow graph\n",
    "    ### START CODE HERE ### (1 line)\n",
    "    cost = compute_cost(Z3, Y)\n",
    "    ### END CODE HERE ###\n",
    "    \n",
    "    # Backpropagation: Define the tensorflow optimizer. Use an AdamOptimizer.\n",
    "    ### START CODE HERE ### (1 line)\n",
    "    optimizer = tf.keras.optimizers.Adam(learning_rate=learning_rate)\n",
    "    ### END CODE HERE ###\n",
    "    \n",
    "\n",
    "    # Do the training loop\n",
    "    for epoch in range(num_epochs):\n",
    "\n",
    "        epoch_cost = 0.                       # Defines a cost related to an epoch\n",
    "        num_minibatches = int(m / minibatch_size) # number of minibatches of size minibatch_size in the train set\n",
    "        seed = seed + 1\n",
    "        minibatches = random_mini_batches(X_train, Y_train, minibatch_size, seed)\n",
    "\n",
    "        for minibatch in minibatches:\n",
    "\n",
    "            # Select a minibatch\n",
    "            (minibatch_X, minibatch_Y) = minibatch\n",
    "            \n",
    "            with tf.GradientTape() as tape:\n",
    "                # Forward propagation\n",
    "                minibatch_z3 = forward_propagation(minibatch_X, parameters)\n",
    "                minibatch_cost = compute_cost(minibatch_z3,minibatch_Y)\n",
    "            \n",
    "            # compute gradients\n",
    "            gradients = tape.gradient(minibatch_cost,parameters)\n",
    "\n",
    "            # update parameters\n",
    "            optimizer.apply_gradients(zip(gradients,parameters))\n",
    "            \n",
    "            ### END CODE HERE ###\n",
    "                \n",
    "            epoch_cost += minibatch_cost / num_minibatches\n",
    "\n",
    "        # Print the cost every epoch\n",
    "        if print_cost == True and epoch % 100 == 0:\n",
    "            print (\"Cost after epoch %i: %f\" % (epoch, epoch_cost))\n",
    "        if print_cost == True and epoch % 5 == 0:\n",
    "            costs.append(epoch_cost)\n",
    "                \n",
    "    # plot the cost\n",
    "    plt.plot(np.squeeze(costs))\n",
    "    plt.ylabel('cost')\n",
    "    plt.xlabel('iterations (per tens)')\n",
    "    plt.title(\"Learning rate =\" + str(learning_rate))\n",
    "    plt.show()\n",
    "    \n",
    "    print (\"Parameters have been trained!\")\n",
    "\n",
    "    # Calculate the correct predictions\n",
    "    correct_prediction = tf.equal(tf.argmax(Z3), tf.argmax(Y))\n",
    "\n",
    "    # Calculate accuracy on the test set\n",
    "    accuracy = tf.reduce_mean(tf.cast(correct_prediction, \"float\"))\n",
    "    train_acc = accuracy.eval({X: X_train, Y: Y_train})\n",
    "    print(\"Train Accuracy:\", train_acc)\n",
    "    \n",
    "    # Calculate accuracy on the test set\n",
    "    test_acc = accuracy.eval({X: X_test, Y: Y_test})\n",
    "    print(\"Test Accuracy:\", test_acc)\n",
    "    \n",
    "    return parameters"
   ]
  },
  {
   "cell_type": "markdown",
   "metadata": {
    "collapsed": true
   },
   "source": [
    "Run the following cell to train your model! On our machine it takes about 5 minutes. Your \"Cost after epoch 100\" should be 1.016458. If it's not, don't waste time; interrupt the training by clicking on the square (⬛) in the upper bar of the notebook, and try to correct your code. If it is the correct cost, take a break and come back in 5 minutes!"
   ]
  },
  {
   "cell_type": "code",
   "execution_count": 50,
   "metadata": {
    "scrolled": false
   },
   "outputs": [
    {
     "name": "stdout",
     "output_type": "stream",
     "text": [
      "{'W1': <tf.Tensor: shape=(25, 12288), dtype=float32, numpy=\n",
      "array([[ 0.        ,  0.        ,  0.        , ...,  0.        ,\n",
      "         0.        ,  0.        ],\n",
      "       [ 0.00840062,  0.00825766,  0.00792102, ...,  0.00511777,\n",
      "         0.00477066,  0.00453883],\n",
      "       [-0.01076991, -0.01036176, -0.01002329, ..., -0.00688266,\n",
      "        -0.00561241, -0.00452772],\n",
      "       ...,\n",
      "       [-0.02520847, -0.024395  , -0.02310897, ..., -0.01711841,\n",
      "        -0.01691609, -0.01647243],\n",
      "       [-0.00411977, -0.00371851, -0.0034078 , ..., -0.00135715,\n",
      "        -0.00370487, -0.00483526],\n",
      "       [ 0.        ,  0.        ,  0.        , ...,  0.        ,\n",
      "         0.        ,  0.        ]], dtype=float32)>, 'b1': <tf.Tensor: shape=(25, 1), dtype=float32, numpy=\n",
      "array([[ 0.        ],\n",
      "       [ 0.00913125],\n",
      "       [-0.01161073],\n",
      "       [ 0.01903287],\n",
      "       [-0.00269347],\n",
      "       [ 0.        ],\n",
      "       [-0.01325413],\n",
      "       [ 0.        ],\n",
      "       [-0.01031458],\n",
      "       [ 0.        ],\n",
      "       [ 0.        ],\n",
      "       [ 0.01177744],\n",
      "       [ 0.03290383],\n",
      "       [ 0.        ],\n",
      "       [-0.00318853],\n",
      "       [ 0.        ],\n",
      "       [-0.01941091],\n",
      "       [ 0.01529748],\n",
      "       [ 0.00596974],\n",
      "       [ 0.01039863],\n",
      "       [ 0.        ],\n",
      "       [-0.0244552 ],\n",
      "       [-0.02841777],\n",
      "       [-0.00451271],\n",
      "       [ 0.        ]], dtype=float32)>, 'W2': <tf.Tensor: shape=(12, 25), dtype=float32, numpy=\n",
      "array([[ 0.00000000e+00,  0.00000000e+00,  0.00000000e+00,\n",
      "         0.00000000e+00,  0.00000000e+00,  0.00000000e+00,\n",
      "         0.00000000e+00,  0.00000000e+00,  0.00000000e+00,\n",
      "         0.00000000e+00,  0.00000000e+00,  0.00000000e+00,\n",
      "         0.00000000e+00,  0.00000000e+00,  0.00000000e+00,\n",
      "         0.00000000e+00,  0.00000000e+00,  0.00000000e+00,\n",
      "         0.00000000e+00,  0.00000000e+00,  0.00000000e+00,\n",
      "         0.00000000e+00,  0.00000000e+00,  0.00000000e+00,\n",
      "         0.00000000e+00],\n",
      "       [ 0.00000000e+00, -4.65818914e-03, -1.17642060e-02,\n",
      "        -5.23608252e-02, -4.74840887e-02,  0.00000000e+00,\n",
      "        -4.23136465e-02,  0.00000000e+00,  1.32668130e-02,\n",
      "         0.00000000e+00,  0.00000000e+00,  2.53916159e-03,\n",
      "        -3.84046435e-02,  0.00000000e+00,  5.69031145e-05,\n",
      "         0.00000000e+00, -1.78400222e-02, -4.43348810e-02,\n",
      "         4.59601963e-03, -2.19313204e-02,  0.00000000e+00,\n",
      "        -4.15817555e-03, -2.32982356e-02,  8.63363594e-03,\n",
      "         0.00000000e+00],\n",
      "       [ 0.00000000e+00,  4.65522520e-04,  3.68304946e-03,\n",
      "         3.45570035e-02,  3.54234427e-02,  0.00000000e+00,\n",
      "         5.33471741e-02,  0.00000000e+00,  1.66371639e-03,\n",
      "         0.00000000e+00,  0.00000000e+00,  6.06665900e-03,\n",
      "         1.73697360e-02,  0.00000000e+00, -9.68602908e-05,\n",
      "         0.00000000e+00,  4.28634882e-03,  3.52960899e-02,\n",
      "         8.31111148e-03,  1.06630959e-02,  0.00000000e+00,\n",
      "         4.13176138e-03,  2.10851859e-02,  7.12481933e-03,\n",
      "         0.00000000e+00],\n",
      "       [ 0.00000000e+00,  6.42707862e-04, -9.45370237e-04,\n",
      "        -1.60778854e-02, -1.14044808e-02,  0.00000000e+00,\n",
      "        -2.24082489e-02,  0.00000000e+00, -3.92403745e-04,\n",
      "         0.00000000e+00,  0.00000000e+00,  1.73509889e-03,\n",
      "        -9.39115230e-03,  0.00000000e+00,  0.00000000e+00,\n",
      "         0.00000000e+00, -1.20234191e-02, -7.34888483e-03,\n",
      "        -1.20375096e-03, -6.49860548e-03,  0.00000000e+00,\n",
      "         7.47416110e-04, -4.68538143e-03, -1.66954659e-02,\n",
      "         0.00000000e+00],\n",
      "       [ 0.00000000e+00,  4.61863354e-03,  1.32189849e-02,\n",
      "         6.00228123e-02,  3.58774476e-02,  0.00000000e+00,\n",
      "         6.27203062e-02,  0.00000000e+00,  8.30423436e-04,\n",
      "         0.00000000e+00,  0.00000000e+00,  1.80089734e-02,\n",
      "         3.37896086e-02,  0.00000000e+00,  0.00000000e+00,\n",
      "         0.00000000e+00,  1.07669905e-02,  6.41802028e-02,\n",
      "         1.35813467e-02,  5.17502194e-03,  0.00000000e+00,\n",
      "         7.88547285e-03,  1.88221708e-02, -8.95927846e-03,\n",
      "         0.00000000e+00],\n",
      "       [ 0.00000000e+00, -1.63331244e-03, -3.75962933e-03,\n",
      "        -3.80165912e-02, -2.44311467e-02,  0.00000000e+00,\n",
      "        -5.34673482e-02,  0.00000000e+00, -5.98634966e-03,\n",
      "         0.00000000e+00,  0.00000000e+00, -1.09141972e-03,\n",
      "        -1.14986412e-02,  0.00000000e+00,  0.00000000e+00,\n",
      "         0.00000000e+00, -1.21017229e-02, -1.73153803e-02,\n",
      "        -5.83437597e-03, -1.40285008e-02,  0.00000000e+00,\n",
      "         2.45952769e-03, -1.47425150e-02, -1.99967138e-02,\n",
      "         0.00000000e+00],\n",
      "       [ 0.00000000e+00,  0.00000000e+00,  0.00000000e+00,\n",
      "         0.00000000e+00,  0.00000000e+00,  0.00000000e+00,\n",
      "         0.00000000e+00,  0.00000000e+00,  0.00000000e+00,\n",
      "         0.00000000e+00,  0.00000000e+00,  0.00000000e+00,\n",
      "         0.00000000e+00,  0.00000000e+00,  0.00000000e+00,\n",
      "         0.00000000e+00,  0.00000000e+00,  0.00000000e+00,\n",
      "         0.00000000e+00,  0.00000000e+00,  0.00000000e+00,\n",
      "         0.00000000e+00,  0.00000000e+00,  0.00000000e+00,\n",
      "         0.00000000e+00],\n",
      "       [ 0.00000000e+00,  0.00000000e+00,  6.46196213e-03,\n",
      "         2.58838776e-02,  2.37678811e-02,  0.00000000e+00,\n",
      "         3.61808836e-02,  0.00000000e+00,  3.81457689e-03,\n",
      "         0.00000000e+00,  0.00000000e+00,  1.97972334e-03,\n",
      "         1.79595985e-02,  0.00000000e+00,  0.00000000e+00,\n",
      "         0.00000000e+00, -4.30284813e-03,  2.49275081e-02,\n",
      "         2.61054537e-03,  6.39412028e-04,  0.00000000e+00,\n",
      "         2.52274028e-03,  9.87639464e-03, -1.90017978e-03,\n",
      "         0.00000000e+00],\n",
      "       [ 0.00000000e+00,  0.00000000e+00,  0.00000000e+00,\n",
      "         0.00000000e+00,  0.00000000e+00,  0.00000000e+00,\n",
      "         0.00000000e+00,  0.00000000e+00,  0.00000000e+00,\n",
      "         0.00000000e+00,  0.00000000e+00,  0.00000000e+00,\n",
      "         0.00000000e+00,  0.00000000e+00,  0.00000000e+00,\n",
      "         0.00000000e+00,  0.00000000e+00,  0.00000000e+00,\n",
      "         0.00000000e+00,  0.00000000e+00,  0.00000000e+00,\n",
      "         0.00000000e+00,  0.00000000e+00,  0.00000000e+00,\n",
      "         0.00000000e+00],\n",
      "       [ 0.00000000e+00,  4.01435141e-03, -1.07641313e-02,\n",
      "        -1.89254247e-02, -1.11404583e-02,  0.00000000e+00,\n",
      "        -5.14079034e-02,  0.00000000e+00, -1.41290016e-02,\n",
      "         0.00000000e+00,  0.00000000e+00,  2.43249160e-04,\n",
      "        -3.28376004e-03,  0.00000000e+00, -9.81144185e-05,\n",
      "         0.00000000e+00, -4.33328142e-03, -2.06754785e-02,\n",
      "        -1.12932380e-02, -6.74900925e-03,  0.00000000e+00,\n",
      "        -3.78724630e-03, -7.30745075e-03, -2.12248415e-02,\n",
      "         0.00000000e+00],\n",
      "       [ 0.00000000e+00,  0.00000000e+00,  0.00000000e+00,\n",
      "         0.00000000e+00,  0.00000000e+00,  0.00000000e+00,\n",
      "         0.00000000e+00,  0.00000000e+00,  0.00000000e+00,\n",
      "         0.00000000e+00,  0.00000000e+00,  0.00000000e+00,\n",
      "         0.00000000e+00,  0.00000000e+00,  0.00000000e+00,\n",
      "         0.00000000e+00,  0.00000000e+00,  0.00000000e+00,\n",
      "         0.00000000e+00,  0.00000000e+00,  0.00000000e+00,\n",
      "         0.00000000e+00,  0.00000000e+00,  0.00000000e+00,\n",
      "         0.00000000e+00],\n",
      "       [ 0.00000000e+00,  5.82498498e-03,  8.36813822e-03,\n",
      "         8.51534773e-04, -1.39634591e-03,  0.00000000e+00,\n",
      "        -1.35878753e-03,  0.00000000e+00,  5.76823112e-03,\n",
      "         0.00000000e+00,  0.00000000e+00, -6.60326937e-03,\n",
      "        -9.15404223e-03,  0.00000000e+00,  0.00000000e+00,\n",
      "         0.00000000e+00,  6.74920343e-03, -8.69353209e-03,\n",
      "        -7.03183236e-03,  1.71931386e-02,  0.00000000e+00,\n",
      "        -4.02269623e-04, -7.49306474e-03, -1.08787911e-02,\n",
      "         0.00000000e+00]], dtype=float32)>, 'b2': <tf.Tensor: shape=(12, 1), dtype=float32, numpy=\n",
      "array([[ 0.        ],\n",
      "       [-0.03140105],\n",
      "       [ 0.02467069],\n",
      "       [-0.01049181],\n",
      "       [ 0.027723  ],\n",
      "       [-0.02217491],\n",
      "       [ 0.        ],\n",
      "       [ 0.01765427],\n",
      "       [ 0.        ],\n",
      "       [-0.01745147],\n",
      "       [ 0.        ],\n",
      "       [ 0.00082049]], dtype=float32)>, 'W3': <tf.Tensor: shape=(6, 12), dtype=float32, numpy=\n",
      "array([[ 0.        , -0.0025802 ,  0.02119271,  0.00087306, -0.00041205,\n",
      "        -0.0045191 ,  0.        ,  0.00061133,  0.        ,  0.00188472,\n",
      "         0.        , -0.00602225],\n",
      "       [ 0.        , -0.00614143, -0.02408562,  0.00112484, -0.00323078,\n",
      "         0.00393541,  0.        ,  0.00058307,  0.        , -0.00069312,\n",
      "         0.        ,  0.00418113],\n",
      "       [ 0.        , -0.04303363, -0.11275393, -0.00246814, -0.00731131,\n",
      "         0.00572138,  0.        ,  0.00112035,  0.        ,  0.00203714,\n",
      "         0.        ,  0.00236983],\n",
      "       [ 0.        ,  0.02118066,  0.06238995,  0.0008647 , -0.00518302,\n",
      "        -0.01170023,  0.        ,  0.00106668,  0.        , -0.00058714,\n",
      "         0.        , -0.00498165],\n",
      "       [ 0.        ,  0.01095   ,  0.02938893, -0.00105122,  0.00367891,\n",
      "        -0.00107367,  0.        , -0.00233484,  0.        , -0.00543541,\n",
      "         0.        ,  0.00472473],\n",
      "       [ 0.        ,  0.0196246 ,  0.02386796,  0.00065675,  0.01245825,\n",
      "         0.00763621,  0.        , -0.00104659,  0.        ,  0.0027938 ,\n",
      "         0.        , -0.00027179]], dtype=float32)>, 'b3': <tf.Tensor: shape=(6, 1), dtype=float32, numpy=\n",
      "array([[ 0.007597  ],\n",
      "       [-0.0153434 ],\n",
      "       [-0.07935566],\n",
      "       [ 0.04164925],\n",
      "       [ 0.016989  ],\n",
      "       [ 0.02846379]], dtype=float32)>}\n"
     ]
    },
    {
     "ename": "AttributeError",
     "evalue": "'str' object has no attribute '_unique_id'",
     "output_type": "error",
     "traceback": [
      "\u001b[1;31m---------------------------------------------------------------------------\u001b[0m",
      "\u001b[1;31mAttributeError\u001b[0m                            Traceback (most recent call last)",
      "Cell \u001b[1;32mIn[50], line 1\u001b[0m\n\u001b[1;32m----> 1\u001b[0m parameters \u001b[38;5;241m=\u001b[39m model(X_train, Y_train, X_test, Y_test)\n",
      "Cell \u001b[1;32mIn[49], line 75\u001b[0m, in \u001b[0;36mmodel\u001b[1;34m(X_train, Y_train, X_test, Y_test, learning_rate, num_epochs, minibatch_size, print_cost)\u001b[0m\n\u001b[0;32m     73\u001b[0m \u001b[38;5;28mprint\u001b[39m(gradients)\n\u001b[0;32m     74\u001b[0m \u001b[38;5;66;03m# update parameters\u001b[39;00m\n\u001b[1;32m---> 75\u001b[0m optimizer\u001b[38;5;241m.\u001b[39mapply_gradients(\u001b[38;5;28mzip\u001b[39m(gradients,parameters))\n\u001b[0;32m     77\u001b[0m \u001b[38;5;66;03m### END CODE HERE ###\u001b[39;00m\n\u001b[0;32m     79\u001b[0m epoch_cost \u001b[38;5;241m+\u001b[39m\u001b[38;5;241m=\u001b[39m minibatch_cost \u001b[38;5;241m/\u001b[39m num_minibatches\n",
      "File \u001b[1;32mD:\\Users\\AA66\\anaconda3\\Lib\\site-packages\\keras\\src\\optimizers\\optimizer.py:1223\u001b[0m, in \u001b[0;36mOptimizer.apply_gradients\u001b[1;34m(self, grads_and_vars, name, skip_gradients_aggregation, **kwargs)\u001b[0m\n\u001b[0;32m   1221\u001b[0m \u001b[38;5;28;01mif\u001b[39;00m \u001b[38;5;129;01mnot\u001b[39;00m skip_gradients_aggregation \u001b[38;5;129;01mand\u001b[39;00m experimental_aggregate_gradients:\n\u001b[0;32m   1222\u001b[0m     grads_and_vars \u001b[38;5;241m=\u001b[39m \u001b[38;5;28mself\u001b[39m\u001b[38;5;241m.\u001b[39maggregate_gradients(grads_and_vars)\n\u001b[1;32m-> 1223\u001b[0m \u001b[38;5;28;01mreturn\u001b[39;00m \u001b[38;5;28msuper\u001b[39m()\u001b[38;5;241m.\u001b[39mapply_gradients(grads_and_vars, name\u001b[38;5;241m=\u001b[39mname)\n",
      "File \u001b[1;32mD:\\Users\\AA66\\anaconda3\\Lib\\site-packages\\keras\\src\\optimizers\\optimizer.py:638\u001b[0m, in \u001b[0;36m_BaseOptimizer.apply_gradients\u001b[1;34m(self, grads_and_vars, name)\u001b[0m\n\u001b[0;32m    634\u001b[0m \u001b[38;5;28;01mwith\u001b[39;00m tf\u001b[38;5;241m.\u001b[39mname_scope(scope_name):\n\u001b[0;32m    635\u001b[0m     \u001b[38;5;28;01mwith\u001b[39;00m tf\u001b[38;5;241m.\u001b[39minit_scope():\n\u001b[0;32m    636\u001b[0m         \u001b[38;5;66;03m# Lift variable creation to init scope to avoid environment\u001b[39;00m\n\u001b[0;32m    637\u001b[0m         \u001b[38;5;66;03m# issues.\u001b[39;00m\n\u001b[1;32m--> 638\u001b[0m         \u001b[38;5;28mself\u001b[39m\u001b[38;5;241m.\u001b[39mbuild(trainable_variables)\n\u001b[0;32m    639\u001b[0m     grads_and_vars \u001b[38;5;241m=\u001b[39m optimizer_utils\u001b[38;5;241m.\u001b[39mfilter_empty_gradients(\n\u001b[0;32m    640\u001b[0m         grads_and_vars\n\u001b[0;32m    641\u001b[0m     )\n\u001b[0;32m    642\u001b[0m     \u001b[38;5;28;01mif\u001b[39;00m \u001b[38;5;28mlen\u001b[39m(\u001b[38;5;28mlist\u001b[39m(grads_and_vars)) \u001b[38;5;241m==\u001b[39m \u001b[38;5;241m0\u001b[39m:\n\u001b[0;32m    643\u001b[0m         \u001b[38;5;66;03m# Check again after filtering gradients.\u001b[39;00m\n",
      "File \u001b[1;32mD:\\Users\\AA66\\anaconda3\\Lib\\site-packages\\keras\\src\\optimizers\\adam.py:137\u001b[0m, in \u001b[0;36mAdam.build\u001b[1;34m(self, var_list)\u001b[0m\n\u001b[0;32m    128\u001b[0m \u001b[38;5;28;01mdef\u001b[39;00m \u001b[38;5;21mbuild\u001b[39m(\u001b[38;5;28mself\u001b[39m, var_list):\n\u001b[0;32m    129\u001b[0m \u001b[38;5;250m    \u001b[39m\u001b[38;5;124;03m\"\"\"Initialize optimizer variables.\u001b[39;00m\n\u001b[0;32m    130\u001b[0m \n\u001b[0;32m    131\u001b[0m \u001b[38;5;124;03m    Adam optimizer has 3 types of variables: momentums, velocities and\u001b[39;00m\n\u001b[1;32m   (...)\u001b[0m\n\u001b[0;32m    135\u001b[0m \u001b[38;5;124;03m        var_list: list of model variables to build Adam variables on.\u001b[39;00m\n\u001b[0;32m    136\u001b[0m \u001b[38;5;124;03m    \"\"\"\u001b[39;00m\n\u001b[1;32m--> 137\u001b[0m     \u001b[38;5;28msuper\u001b[39m()\u001b[38;5;241m.\u001b[39mbuild(var_list)\n\u001b[0;32m    138\u001b[0m     \u001b[38;5;28;01mif\u001b[39;00m \u001b[38;5;28mhasattr\u001b[39m(\u001b[38;5;28mself\u001b[39m, \u001b[38;5;124m\"\u001b[39m\u001b[38;5;124m_built\u001b[39m\u001b[38;5;124m\"\u001b[39m) \u001b[38;5;129;01mand\u001b[39;00m \u001b[38;5;28mself\u001b[39m\u001b[38;5;241m.\u001b[39m_built:\n\u001b[0;32m    139\u001b[0m         \u001b[38;5;28;01mreturn\u001b[39;00m\n",
      "File \u001b[1;32mD:\\Users\\AA66\\anaconda3\\Lib\\site-packages\\keras\\src\\optimizers\\optimizer.py:416\u001b[0m, in \u001b[0;36m_BaseOptimizer.build\u001b[1;34m(self, var_list)\u001b[0m\n\u001b[0;32m    414\u001b[0m \u001b[38;5;28;01mif\u001b[39;00m \u001b[38;5;28mgetattr\u001b[39m(\u001b[38;5;28mself\u001b[39m, \u001b[38;5;124m\"\u001b[39m\u001b[38;5;124m_built\u001b[39m\u001b[38;5;124m\"\u001b[39m, \u001b[38;5;28;01mFalse\u001b[39;00m):\n\u001b[0;32m    415\u001b[0m     \u001b[38;5;28;01mreturn\u001b[39;00m\n\u001b[1;32m--> 416\u001b[0m \u001b[38;5;28mself\u001b[39m\u001b[38;5;241m.\u001b[39m_build_index_dict(var_list)\n\u001b[0;32m    417\u001b[0m \u001b[38;5;28;01mif\u001b[39;00m \u001b[38;5;28mself\u001b[39m\u001b[38;5;241m.\u001b[39muse_ema:\n\u001b[0;32m    418\u001b[0m     \u001b[38;5;28mself\u001b[39m\u001b[38;5;241m.\u001b[39m_model_variables_moving_average \u001b[38;5;241m=\u001b[39m []\n",
      "File \u001b[1;32mD:\\Users\\AA66\\anaconda3\\Lib\\site-packages\\keras\\src\\optimizers\\optimizer.py:442\u001b[0m, in \u001b[0;36m_BaseOptimizer._build_index_dict\u001b[1;34m(self, var_list)\u001b[0m\n\u001b[0;32m    440\u001b[0m \u001b[38;5;28mself\u001b[39m\u001b[38;5;241m.\u001b[39m_index_dict \u001b[38;5;241m=\u001b[39m {}\n\u001b[0;32m    441\u001b[0m \u001b[38;5;28;01mfor\u001b[39;00m i, var \u001b[38;5;129;01min\u001b[39;00m \u001b[38;5;28menumerate\u001b[39m(var_list):\n\u001b[1;32m--> 442\u001b[0m     var_key \u001b[38;5;241m=\u001b[39m \u001b[38;5;28mself\u001b[39m\u001b[38;5;241m.\u001b[39m_var_key(var)\n\u001b[0;32m    443\u001b[0m     \u001b[38;5;28mself\u001b[39m\u001b[38;5;241m.\u001b[39m_index_dict[var_key] \u001b[38;5;241m=\u001b[39m i\n",
      "File \u001b[1;32mD:\\Users\\AA66\\anaconda3\\Lib\\site-packages\\keras\\src\\optimizers\\optimizer.py:1161\u001b[0m, in \u001b[0;36mOptimizer._var_key\u001b[1;34m(self, variable)\u001b[0m\n\u001b[0;32m   1153\u001b[0m \u001b[38;5;28;01melif\u001b[39;00m (\n\u001b[0;32m   1154\u001b[0m     tf_utils\u001b[38;5;241m.\u001b[39mis_extension_type(variable)\n\u001b[0;32m   1155\u001b[0m     \u001b[38;5;129;01mand\u001b[39;00m \u001b[38;5;28mhasattr\u001b[39m(variable, \u001b[38;5;124m\"\u001b[39m\u001b[38;5;124mhandle\u001b[39m\u001b[38;5;124m\"\u001b[39m)\n\u001b[1;32m   (...)\u001b[0m\n\u001b[0;32m   1158\u001b[0m     \u001b[38;5;66;03m# For ResourceVariables, the _distributed_container attribute\u001b[39;00m\n\u001b[0;32m   1159\u001b[0m     \u001b[38;5;66;03m# is added to their handle tensors.\u001b[39;00m\n\u001b[0;32m   1160\u001b[0m     variable \u001b[38;5;241m=\u001b[39m variable\u001b[38;5;241m.\u001b[39mhandle\u001b[38;5;241m.\u001b[39m_distributed_container()\n\u001b[1;32m-> 1161\u001b[0m \u001b[38;5;28;01mreturn\u001b[39;00m \u001b[38;5;28msuper\u001b[39m()\u001b[38;5;241m.\u001b[39m_var_key(variable)\n",
      "File \u001b[1;32mD:\\Users\\AA66\\anaconda3\\Lib\\site-packages\\keras\\src\\optimizers\\optimizer.py:162\u001b[0m, in \u001b[0;36m_BaseOptimizer._var_key\u001b[1;34m(self, variable)\u001b[0m\n\u001b[0;32m    158\u001b[0m \u001b[38;5;250m\u001b[39m\u001b[38;5;124;03m\"\"\"Get a unique identifier of the given variable.\"\"\"\u001b[39;00m\n\u001b[0;32m    159\u001b[0m \u001b[38;5;66;03m# Get the distributed variable if it exists.\u001b[39;00m\n\u001b[0;32m    160\u001b[0m \u001b[38;5;66;03m# TODO(b/199214315): replace _unique_id with ref() after fixing ref()\u001b[39;00m\n\u001b[0;32m    161\u001b[0m \u001b[38;5;66;03m# issues on AggregatingVariable.\u001b[39;00m\n\u001b[1;32m--> 162\u001b[0m \u001b[38;5;28;01mreturn\u001b[39;00m variable\u001b[38;5;241m.\u001b[39m_unique_id\n",
      "\u001b[1;31mAttributeError\u001b[0m: 'str' object has no attribute '_unique_id'"
     ]
    }
   ],
   "source": [
    "parameters = model(X_train, Y_train, X_test, Y_test)"
   ]
  },
  {
   "cell_type": "markdown",
   "metadata": {},
   "source": [
    "**Expected Output**:\n",
    "\n",
    "<table> \n",
    "    <tr> \n",
    "        <td>\n",
    "            **Train Accuracy**\n",
    "        </td>\n",
    "        <td>\n",
    "        0.999074\n",
    "        </td>\n",
    "    </tr>\n",
    "    <tr> \n",
    "        <td>\n",
    "            **Test Accuracy**\n",
    "        </td>\n",
    "        <td>\n",
    "        0.716667\n",
    "        </td>\n",
    "    </tr>\n",
    "\n",
    "</table>\n",
    "\n",
    "Amazing, your algorithm can recognize a sign representing a figure between 0 and 5 with 71.7% accuracy.\n",
    "\n",
    "**Insights**:\n",
    "- Your model seems big enough to fit the training set well. However, given the difference between train and test accuracy, you could try to add L2 or dropout regularization to reduce overfitting. \n",
    "- Think about the session as a block of code to train the model. Each time you run the session on a minibatch, it trains the parameters. In total you have run the session a large number of times (1500 epochs) until you obtained well trained parameters."
   ]
  },
  {
   "cell_type": "markdown",
   "metadata": {},
   "source": [
    "### 2.7 - Test with your own image (optional / ungraded exercise)\n",
    "\n",
    "Congratulations on finishing this assignment. You can now take a picture of your hand and see the output of your model. To do that:\n",
    "    1. Click on \"File\" in the upper bar of this notebook, then click \"Open\" to go on your Coursera Hub.\n",
    "    2. Add your image to this Jupyter Notebook's directory, in the \"images\" folder\n",
    "    3. Write your image's name in the following code\n",
    "    4. Run the code and check if the algorithm is right!"
   ]
  },
  {
   "cell_type": "code",
   "execution_count": null,
   "metadata": {
    "scrolled": true
   },
   "outputs": [],
   "source": [
    "# import scipy\n",
    "# from PIL import Image\n",
    "# from scipy import ndimage\n",
    "import imageio\n",
    "from skimage.transform import resize\n",
    "\n",
    "## START CODE HERE ## (PUT YOUR IMAGE NAME) \n",
    "my_image = \"thumbs_up.jpg\"\n",
    "## END CODE HERE ##\n",
    "\n",
    "# We preprocess your image to fit your algorithm.\n",
    "fname = \"images/\" + my_image\n",
    "# image = np.array(ndimage.imread(fname, flatten=False))\n",
    "# my_image = scipy.misc.imresize(image, size=(64,64)).reshape((1, 64*64*3)).T\n",
    "\n",
    "image = np.array(imageio.imread(fname))                   # 读入图片为矩阵, 这里用原版本的会出错，scipy的那个函数被删了\n",
    "# print(image.shape)\n",
    "# 转置图片为 (num_px*num_px*3, 1)向量\n",
    "my_image = resize(image, output_shape=(64, 64)).reshape((1, 64 * 64 * 3)).T\n",
    "# print(my_image)\n",
    "\n",
    "my_image_prediction = predict(my_image, parameters)\n",
    "\n",
    "plt.imshow(image)\n",
    "print(\"Your algorithm predicts: y = \" + str(np.squeeze(my_image_prediction)))"
   ]
  },
  {
   "cell_type": "markdown",
   "metadata": {},
   "source": [
    "You indeed deserved a \"thumbs-up\" although as you can see the algorithm seems to classify it incorrectly. The reason is that the training set doesn't contain any \"thumbs-up\", so the model doesn't know how to deal with it! We call that a \"mismatched data distribution\" and it is one of the various of the next course on \"Structuring Machine Learning Projects\"."
   ]
  },
  {
   "cell_type": "markdown",
   "metadata": {
    "collapsed": true
   },
   "source": [
    "<font color='blue'>\n",
    "**What you should remember**:\n",
    "- Tensorflow is a programming framework used in deep learning\n",
    "- The two main object classes in tensorflow are Tensors and Operators. \n",
    "- When you code in tensorflow you have to take the following steps:\n",
    "    - Create a graph containing Tensors (Variables, Placeholders ...) and Operations (tf.matmul, tf.add, ...)\n",
    "    - Create a session\n",
    "    - Initialize the session\n",
    "    - Run the session to execute the graph\n",
    "- You can execute the graph multiple times as you've seen in model()\n",
    "- The backpropagation and optimization is automatically done when running the session on the \"optimizer\" object."
   ]
  },
  {
   "cell_type": "code",
   "execution_count": 36,
   "metadata": {},
   "outputs": [
    {
     "ename": "InvalidArgumentError",
     "evalue": "cannot compute MatMul as input #1(zero-based) was expected to be a double tensor but is a float tensor [Op:MatMul] name: ",
     "output_type": "error",
     "traceback": [
      "\u001b[1;31m---------------------------------------------------------------------------\u001b[0m",
      "\u001b[1;31mInvalidArgumentError\u001b[0m                      Traceback (most recent call last)",
      "Cell \u001b[1;32mIn[36], line 3\u001b[0m\n\u001b[0;32m      1\u001b[0m a \u001b[38;5;241m=\u001b[39m np\u001b[38;5;241m.\u001b[39marray([\u001b[38;5;241m1.\u001b[39m,\u001b[38;5;241m2.\u001b[39m,\u001b[38;5;241m2.\u001b[39m,\u001b[38;5;241m3.\u001b[39m,\u001b[38;5;241m4.\u001b[39m])\n\u001b[0;32m      2\u001b[0m b \u001b[38;5;241m=\u001b[39m tf\u001b[38;5;241m.\u001b[39mVariable([\u001b[38;5;241m1.\u001b[39m,\u001b[38;5;241m2.\u001b[39m,\u001b[38;5;241m2.\u001b[39m,\u001b[38;5;241m3.\u001b[39m,\u001b[38;5;241m4.\u001b[39m],dtype\u001b[38;5;241m=\u001b[39mtf\u001b[38;5;241m.\u001b[39mfloat32)\n\u001b[1;32m----> 3\u001b[0m c \u001b[38;5;241m=\u001b[39m tf\u001b[38;5;241m.\u001b[39mmatmul(a\u001b[38;5;241m.\u001b[39mT,b)\n\u001b[0;32m      4\u001b[0m \u001b[38;5;28mprint\u001b[39m(a\u001b[38;5;241m.\u001b[39mshape)\n\u001b[0;32m      5\u001b[0m \u001b[38;5;28mprint\u001b[39m(b\u001b[38;5;241m.\u001b[39mshape)\n",
      "File \u001b[1;32mD:\\Users\\AA66\\anaconda3\\Lib\\site-packages\\tensorflow\\python\\ops\\weak_tensor_ops.py:142\u001b[0m, in \u001b[0;36mweak_tensor_binary_op_wrapper.<locals>.wrapper\u001b[1;34m(*args, **kwargs)\u001b[0m\n\u001b[0;32m    140\u001b[0m \u001b[38;5;28;01mdef\u001b[39;00m \u001b[38;5;21mwrapper\u001b[39m(\u001b[38;5;241m*\u001b[39margs, \u001b[38;5;241m*\u001b[39m\u001b[38;5;241m*\u001b[39mkwargs):\n\u001b[0;32m    141\u001b[0m   \u001b[38;5;28;01mif\u001b[39;00m \u001b[38;5;129;01mnot\u001b[39;00m ops\u001b[38;5;241m.\u001b[39mis_auto_dtype_conversion_enabled():\n\u001b[1;32m--> 142\u001b[0m     \u001b[38;5;28;01mreturn\u001b[39;00m op(\u001b[38;5;241m*\u001b[39margs, \u001b[38;5;241m*\u001b[39m\u001b[38;5;241m*\u001b[39mkwargs)\n\u001b[0;32m    143\u001b[0m   bound_arguments \u001b[38;5;241m=\u001b[39m signature\u001b[38;5;241m.\u001b[39mbind(\u001b[38;5;241m*\u001b[39margs, \u001b[38;5;241m*\u001b[39m\u001b[38;5;241m*\u001b[39mkwargs)\n\u001b[0;32m    144\u001b[0m   bound_arguments\u001b[38;5;241m.\u001b[39mapply_defaults()\n",
      "File \u001b[1;32mD:\\Users\\AA66\\anaconda3\\Lib\\site-packages\\tensorflow\\python\\util\\traceback_utils.py:153\u001b[0m, in \u001b[0;36mfilter_traceback.<locals>.error_handler\u001b[1;34m(*args, **kwargs)\u001b[0m\n\u001b[0;32m    151\u001b[0m \u001b[38;5;28;01mexcept\u001b[39;00m \u001b[38;5;167;01mException\u001b[39;00m \u001b[38;5;28;01mas\u001b[39;00m e:\n\u001b[0;32m    152\u001b[0m   filtered_tb \u001b[38;5;241m=\u001b[39m _process_traceback_frames(e\u001b[38;5;241m.\u001b[39m__traceback__)\n\u001b[1;32m--> 153\u001b[0m   \u001b[38;5;28;01mraise\u001b[39;00m e\u001b[38;5;241m.\u001b[39mwith_traceback(filtered_tb) \u001b[38;5;28;01mfrom\u001b[39;00m \u001b[38;5;28;01mNone\u001b[39;00m\n\u001b[0;32m    154\u001b[0m \u001b[38;5;28;01mfinally\u001b[39;00m:\n\u001b[0;32m    155\u001b[0m   \u001b[38;5;28;01mdel\u001b[39;00m filtered_tb\n",
      "File \u001b[1;32mD:\\Users\\AA66\\anaconda3\\Lib\\site-packages\\tensorflow\\python\\framework\\ops.py:5883\u001b[0m, in \u001b[0;36mraise_from_not_ok_status\u001b[1;34m(e, name)\u001b[0m\n\u001b[0;32m   5881\u001b[0m \u001b[38;5;28;01mdef\u001b[39;00m \u001b[38;5;21mraise_from_not_ok_status\u001b[39m(e, name) \u001b[38;5;241m-\u001b[39m\u001b[38;5;241m>\u001b[39m NoReturn:\n\u001b[0;32m   5882\u001b[0m   e\u001b[38;5;241m.\u001b[39mmessage \u001b[38;5;241m+\u001b[39m\u001b[38;5;241m=\u001b[39m (\u001b[38;5;124m\"\u001b[39m\u001b[38;5;124m name: \u001b[39m\u001b[38;5;124m\"\u001b[39m \u001b[38;5;241m+\u001b[39m \u001b[38;5;28mstr\u001b[39m(name \u001b[38;5;28;01mif\u001b[39;00m name \u001b[38;5;129;01mis\u001b[39;00m \u001b[38;5;129;01mnot\u001b[39;00m \u001b[38;5;28;01mNone\u001b[39;00m \u001b[38;5;28;01melse\u001b[39;00m \u001b[38;5;124m\"\u001b[39m\u001b[38;5;124m\"\u001b[39m))\n\u001b[1;32m-> 5883\u001b[0m   \u001b[38;5;28;01mraise\u001b[39;00m core\u001b[38;5;241m.\u001b[39m_status_to_exception(e) \u001b[38;5;28;01mfrom\u001b[39;00m \u001b[38;5;28;01mNone\u001b[39;00m\n",
      "\u001b[1;31mInvalidArgumentError\u001b[0m: cannot compute MatMul as input #1(zero-based) was expected to be a double tensor but is a float tensor [Op:MatMul] name: "
     ]
    }
   ],
   "source": [
    "a = np.array([1.,2.,2.,3.,4.])\n",
    "b = tf.Variable([1.,2.,2.,3.,4.],dtype=tf.float32)\n",
    "c = tf.matmul(a.T,b)\n",
    "print(a.shape)\n",
    "print(b.shape)"
   ]
  },
  {
   "cell_type": "code",
   "execution_count": null,
   "metadata": {},
   "outputs": [],
   "source": []
  }
 ],
 "metadata": {
  "coursera": {
   "course_slug": "deep-neural-network",
   "graded_item_id": "BFd89",
   "launcher_item_id": "AH2rK"
  },
  "kernelspec": {
   "display_name": "Python 3 (ipykernel)",
   "language": "python",
   "name": "python3"
  },
  "language_info": {
   "codemirror_mode": {
    "name": "ipython",
    "version": 3
   },
   "file_extension": ".py",
   "mimetype": "text/x-python",
   "name": "python",
   "nbconvert_exporter": "python",
   "pygments_lexer": "ipython3",
   "version": "3.11.4"
  }
 },
 "nbformat": 4,
 "nbformat_minor": 1
}
