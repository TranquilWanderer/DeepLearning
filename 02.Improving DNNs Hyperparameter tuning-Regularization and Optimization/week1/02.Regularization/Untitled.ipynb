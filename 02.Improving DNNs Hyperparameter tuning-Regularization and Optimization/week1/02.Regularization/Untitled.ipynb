{
 "cells": [
  {
   "cell_type": "code",
   "execution_count": 1,
   "id": "a7a5a02a",
   "metadata": {},
   "outputs": [],
   "source": [
    "import numpy as np\n",
    "cache = (np.array([[-1.52855314,  3.32524635,  2.13994541,  2.60700654, -0.75942115],\n",
    "         [-1.98043538,  4.1600994 ,  0.79051021,  1.46493512, -0.45506242]]),\n",
    "  np.array([[ 0.        ,  3.32524635,  2.13994541,  2.60700654,  0.        ],\n",
    "         [ 0.        ,  4.1600994 ,  0.79051021,  1.46493512,  0.        ]]),\n",
    "  np.array([[-1.09989127, -0.17242821, -0.87785842],\n",
    "         [ 0.04221375,  0.58281521, -1.10061918]]),\n",
    "  np.array([[ 1.14472371],\n",
    "         [ 0.90159072]]),\n",
    "  np.array([[ 0.53035547,  5.94892323,  2.31780174,  3.16005701,  0.53035547],\n",
    "         [-0.69166075, -3.47645987, -2.25194702, -2.65416996, -0.69166075],\n",
    "         [-0.39675353, -4.62285846, -2.61101729, -3.22874921, -0.39675353]]),\n",
    "  np.array([[ 0.53035547,  5.94892323,  2.31780174,  3.16005701,  0.53035547],\n",
    "         [ 0.        ,  0.        ,  0.        ,  0.        ,  0.        ],\n",
    "         [ 0.        ,  0.        ,  0.        ,  0.        ,  0.        ]]),\n",
    "  np.array([[ 0.50249434,  0.90085595],\n",
    "         [-0.68372786, -0.12289023],\n",
    "         [-0.93576943, -0.26788808]]),\n",
    "  np.array([[ 0.53035547],\n",
    "         [-0.69166075],\n",
    "         [-0.39675353]]),\n",
    "  np.array([[-0.3771104 , -4.10060224, -1.60539468, -2.18416951, -0.3771104 ]]),\n",
    "  np.array([[ 0.40682402,  0.01629284,  0.16722898,  0.10118111,  0.40682402]]),\n",
    "  np.array([[-0.6871727 , -0.84520564, -0.67124613]]),\n",
    "  np.array([[-0.0126646]]))"
   ]
  },
  {
   "cell_type": "code",
   "execution_count": 3,
   "id": "22fe2c59",
   "metadata": {},
   "outputs": [
    {
     "name": "stdout",
     "output_type": "stream",
     "text": [
      "<class 'tuple'>\n"
     ]
    }
   ],
   "source": [
    "print(type(cache))"
   ]
  },
  {
   "cell_type": "code",
   "execution_count": 4,
   "id": "99822d41",
   "metadata": {},
   "outputs": [
    {
     "name": "stdout",
     "output_type": "stream",
     "text": [
      "12\n"
     ]
    }
   ],
   "source": [
    "print(len(cache))"
   ]
  },
  {
   "cell_type": "code",
   "execution_count": 5,
   "id": "e4e39640",
   "metadata": {},
   "outputs": [
    {
     "name": "stdout",
     "output_type": "stream",
     "text": [
      "[[-1.52855314  3.32524635  2.13994541  2.60700654 -0.75942115]\n",
      " [-1.98043538  4.1600994   0.79051021  1.46493512 -0.45506242]]\n",
      "[[0.         3.32524635 2.13994541 2.60700654 0.        ]\n",
      " [0.         4.1600994  0.79051021 1.46493512 0.        ]]\n",
      "[[-1.09989127 -0.17242821 -0.87785842]\n",
      " [ 0.04221375  0.58281521 -1.10061918]]\n",
      "[[1.14472371]\n",
      " [0.90159072]]\n",
      "[[ 0.53035547  5.94892323  2.31780174  3.16005701  0.53035547]\n",
      " [-0.69166075 -3.47645987 -2.25194702 -2.65416996 -0.69166075]\n",
      " [-0.39675353 -4.62285846 -2.61101729 -3.22874921 -0.39675353]]\n",
      "[[0.53035547 5.94892323 2.31780174 3.16005701 0.53035547]\n",
      " [0.         0.         0.         0.         0.        ]\n",
      " [0.         0.         0.         0.         0.        ]]\n",
      "[[ 0.50249434  0.90085595]\n",
      " [-0.68372786 -0.12289023]\n",
      " [-0.93576943 -0.26788808]]\n",
      "[[ 0.53035547]\n",
      " [-0.69166075]\n",
      " [-0.39675353]]\n",
      "[[-0.3771104  -4.10060224 -1.60539468 -2.18416951 -0.3771104 ]]\n",
      "[[0.40682402 0.01629284 0.16722898 0.10118111 0.40682402]]\n",
      "[[-0.6871727  -0.84520564 -0.67124613]]\n",
      "[[-0.0126646]]\n"
     ]
    }
   ],
   "source": [
    "\n",
    "for item in cache:\n",
    "    print(item)"
   ]
  },
  {
   "cell_type": "code",
   "execution_count": 6,
   "id": "45a7a78c",
   "metadata": {},
   "outputs": [
    {
     "name": "stdout",
     "output_type": "stream",
     "text": [
      "[[0.         3.32524635 2.13994541 2.60700654 0.        ]\n",
      " [0.         4.1600994  0.79051021 1.46493512 0.        ]]\n"
     ]
    }
   ],
   "source": [
    "print(cache[1])"
   ]
  },
  {
   "cell_type": "code",
   "execution_count": 7,
   "id": "820e3e15",
   "metadata": {},
   "outputs": [
    {
     "name": "stdout",
     "output_type": "stream",
     "text": [
      "(2, 5)\n"
     ]
    }
   ],
   "source": [
    "print(cache[1].shape)"
   ]
  },
  {
   "cell_type": "code",
   "execution_count": 8,
   "id": "d874c20d",
   "metadata": {},
   "outputs": [
    {
     "name": "stdout",
     "output_type": "stream",
     "text": [
      "[[1.14472371]\n",
      " [0.90159072]]\n"
     ]
    }
   ],
   "source": [
    "print(cache[3])"
   ]
  },
  {
   "cell_type": "code",
   "execution_count": 9,
   "id": "41ec4bb5",
   "metadata": {},
   "outputs": [
    {
     "name": "stdout",
     "output_type": "stream",
     "text": [
      "(2, 1)\n"
     ]
    }
   ],
   "source": [
    "print(cache[3].shape)"
   ]
  },
  {
   "cell_type": "code",
   "execution_count": 14,
   "id": "b981508b",
   "metadata": {},
   "outputs": [
    {
     "name": "stdout",
     "output_type": "stream",
     "text": [
      "(2, 5)\n",
      "(2, 5)\n",
      "(2, 3)\n",
      "(2, 1)\n",
      "(3, 5)\n",
      "(3, 5)\n",
      "(3, 2)\n",
      "(3, 1)\n",
      "(1, 5)\n",
      "(1, 5)\n",
      "(1, 3)\n",
      "(1, 1)\n"
     ]
    }
   ],
   "source": [
    "for i in range(len(cache)):\n",
    "    print(cache[i].shape)"
   ]
  },
  {
   "cell_type": "code",
   "execution_count": null,
   "id": "ae4ab8ec",
   "metadata": {},
   "outputs": [],
   "source": []
  }
 ],
 "metadata": {
  "kernelspec": {
   "display_name": "Python 3 (ipykernel)",
   "language": "python",
   "name": "python3"
  },
  "language_info": {
   "codemirror_mode": {
    "name": "ipython",
    "version": 3
   },
   "file_extension": ".py",
   "mimetype": "text/x-python",
   "name": "python",
   "nbconvert_exporter": "python",
   "pygments_lexer": "ipython3",
   "version": "3.11.4"
  }
 },
 "nbformat": 4,
 "nbformat_minor": 5
}
